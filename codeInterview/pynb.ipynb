{
 "cells": [
  {
   "cell_type": "code",
   "execution_count": 18,
   "metadata": {},
   "outputs": [
    {
     "name": "stdout",
     "output_type": "stream",
     "text": [
      "4\n",
      "6\n",
      "2\n"
     ]
    }
   ],
   "source": [
    "#Definition for singly-linked list.\n",
    "class ListNode(object):\n",
    "    def __init__(self, val=0, next=None):\n",
    "        self.val = val\n",
    "        self.next = next\n",
    "    @classmethod\n",
    "    def create(cls,lst):\n",
    "        topNode=None\n",
    "        curNode=None\n",
    "        for i in lst:\n",
    "            if topNode==None:\n",
    "                topNode=ListNode(i)\n",
    "                curNode=topNode\n",
    "            else:\n",
    "                curNode.next=ListNode(i)\n",
    "                curNode=curNode.next\n",
    "        return topNode\n",
    "    def printOut(self):\n",
    "          curNode=self;\n",
    "          while curNode!=None:\n",
    "            print(curNode.val)\n",
    "            curNode=curNode.next\n",
    "    def getValAsString(self):\n",
    "        str_=''\n",
    "        curNode=self;\n",
    "        while curNode!=None:\n",
    "            str_=str_+curNode.val\n",
    "            curNode=curNode.next\n",
    "        return str_\n",
    "        \n",
    "        \n",
    "        \n",
    "def sumListNode(l1, l2):\n",
    "    topReturnNode=None\n",
    "    curNode=None\n",
    "    curNode1=l1\n",
    "    curNode2=l2\n",
    "    \n",
    "    while curNode1!=None and curNode2!=None :\n",
    "        if topReturnNode==None:\n",
    "            topReturnNode=ListNode((curNode1.val+curNode2.val)%10)\n",
    "            curNode=topReturnNode\n",
    "        else:\n",
    "            curNode.next=ListNode((curNode1.val+curNode2.val)%10)\n",
    "            curNode=curNode.next\n",
    "        curNode1=curNode1.next\n",
    "        curNode2=curNode2.next\n",
    "    return topReturnNode\n",
    "        \n",
    "l1=ListNode.create([9,3,8])\n",
    "print(l1.getValAsString())\n",
    "# l2=ListNode.create([2,3,4])\n",
    "# ln = sumListNode(l1,l2)\n",
    "# ln.printOut()\n"
   ]
  },
  {
   "cell_type": "code",
   "execution_count": 7,
   "metadata": {},
   "outputs": [
    {
     "name": "stdout",
     "output_type": "stream",
     "text": [
      "12\n",
      "3\n",
      "34\n"
     ]
    }
   ],
   "source": [
    "ls=[12,3,34]\n",
    "for i in ls:\n",
    "    print(i)\n"
   ]
  }
 ],
 "metadata": {
  "kernelspec": {
   "display_name": "Python 3",
   "name": "python3"
  },
  "language_info": {
   "codemirror_mode": {
    "name": "ipython",
    "version": 3
   },
   "file_extension": ".py",
   "mimetype": "text/x-python",
   "name": "python",
   "nbconvert_exporter": "python",
   "pygments_lexer": "ipython3",
   "version": "3.7.4"
  },
  "orig_nbformat": 2
 },
 "nbformat": 4,
 "nbformat_minor": 2
}
