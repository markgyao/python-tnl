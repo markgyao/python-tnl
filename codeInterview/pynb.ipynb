{
 "cells": [
  {
   "cell_type": "code",
   "execution_count": null,
   "metadata": {},
   "outputs": [],
   "source": []
  },
  {
   "cell_type": "code",
   "execution_count": 8,
   "metadata": {},
   "outputs": [
    {
     "name": "stdout",
     "output_type": "stream",
     "text": [
      "[7, 0, 8]\n",
      "[8, 9, 9, 9, 0, 0, 0, 1]\n"
     ]
    }
   ],
   "source": [
    "#Definition for singly-linked list.\n",
    "class ListNode(object):\n",
    "    def __init__(self, val=0, next=None):\n",
    "        self.val = val\n",
    "        self.next = next\n",
    "    @classmethod\n",
    "    #creae ListNode from array, in reverse order\n",
    "    def create(cls,lst):\n",
    "        topNode=None\n",
    "        curNode=None\n",
    "        size=len(lst)\n",
    "        for i in range(size):\n",
    "            if topNode==None:\n",
    "                topNode=ListNode(lst[size-i-1])\n",
    "                curNode=topNode\n",
    "            else:\n",
    "                curNode.next=ListNode(lst[size-i-1])\n",
    "                curNode=curNode.next\n",
    "        return topNode\n",
    "    def printOut(self):\n",
    "          curNode=self;\n",
    "          while curNode!=None:\n",
    "            print(curNode.val)\n",
    "            curNode=curNode.next\n",
    "    def getInt(self):\n",
    "        str_=''\n",
    "        curNode=self;\n",
    "        while curNode!=None:\n",
    "            str_=str(curNode.val)+str_\n",
    "            curNode=curNode.next\n",
    "        return int(str_)\n",
    "    @staticmethod\n",
    "    def fromIntToListNode(intVal):\n",
    "        str1=str(intVal)\n",
    "        size=len(str1)\n",
    "        str1=str1[::-1]\n",
    "        aInt=[]\n",
    "        for s in str1:aInt.append(int(s))\n",
    "        return aInt\n",
    "            \n",
    "        \n",
    "def sumListNode(l1, l2):\n",
    "    sum=l1.getInt()+l2.getInt()\n",
    "    return ListNode.fromIntToListNode(sum)\n",
    "\n",
    "l1=ListNode.create([2,4,3])\n",
    "l2=ListNode.create([5,6,4])\n",
    "print(sumListNode(l1,l2))\n",
    "\n",
    "l1 = ListNode.create([9,9,9,9,9,9,9])\n",
    "l2 = ListNode.create([9,9,9,9])\n",
    "print(sumListNode(l1,l2))"
   ]
  },
  {
   "cell_type": "code",
   "execution_count": 33,
   "metadata": {},
   "outputs": [
    {
     "name": "stdout",
     "output_type": "stream",
     "text": [
      "2 0\n",
      "\t1\n",
      "4 1\n",
      "\t2\n",
      "7 2\n",
      "\t3\n",
      "8 3\n",
      "\t4\n",
      "9 4\n",
      "\t5\n",
      "12 5\n",
      "\t6\n"
     ]
    }
   ],
   "source": [
    "a=[1,3,7,10]\n",
    "b=[2,4,7,8,9,12]\n",
    "i=0\n",
    "j=0\n",
    "movep= lambda p, upper: p+1 if p<upper else p\n",
    "# while (i<=len(a)-1 or j<=len(b)-1):\n",
    "#     if a[i]<b[j]:\n",
    "#         print(a[i])\n",
    "#         i=movep(i,len(a))\n",
    "#     elif a[i]==b[j]:\n",
    "#         print(a[i])\n",
    "#         i=movep(i,len(a))\n",
    "#         j=movep(j,len(b))\n",
    "#     else:\n",
    "#         print(b[j])\n",
    "#         j=movep(j,len(b))\n",
    "\n",
    "while i<len(b):\n",
    "    print(b[i], i)\n",
    "    i=movep(i,len(b))\n",
    "    print('\\t{}'.format(i))\n",
    "    "
   ]
  }
 ],
 "metadata": {
  "kernelspec": {
   "display_name": "Python 3",
   "name": "python3"
  },
  "language_info": {
   "codemirror_mode": {
    "name": "ipython",
    "version": 3
   },
   "file_extension": ".py",
   "mimetype": "text/x-python",
   "name": "python",
   "nbconvert_exporter": "python",
   "pygments_lexer": "ipython3",
   "version": "3.7.4"
  },
  "orig_nbformat": 2
 },
 "nbformat": 4,
 "nbformat_minor": 2
}
