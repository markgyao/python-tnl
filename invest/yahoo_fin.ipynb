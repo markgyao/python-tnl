{
 "cells": [
  {
   "cell_type": "markdown",
   "metadata": {},
   "source": [
    "- http://theautomatic.net/yahoo_fin-documentation/\n",
    "- http://theautomatic.net/2018/07/31/how-to-get-live-stock-prices-with-python/\n",
    "- https://thecleverprogrammer.com/2020/08/22/real-time-stock-price-with-python/"
   ]
  },
  {
   "cell_type": "code",
   "execution_count": 5,
   "metadata": {},
   "outputs": [
    {
     "data": {
      "text/plain": [
       "147.11000061035156"
      ]
     },
     "execution_count": 5,
     "metadata": {},
     "output_type": "execute_result"
    }
   ],
   "source": [
    "\n",
    "from yahoo_fin import stock_info  as si\n",
    "from IPython.display import display\n",
    "# get live stock data from yahoo finance\n",
    "ticket='AAPL'\n",
    "price=si.get_live_price('AAPL')\n",
    "price"
   ]
  },
  {
   "cell_type": "code",
   "execution_count": 6,
   "metadata": {},
   "outputs": [
    {
     "data": {
      "text/html": [
       "<div>\n",
       "<style scoped>\n",
       "    .dataframe tbody tr th:only-of-type {\n",
       "        vertical-align: middle;\n",
       "    }\n",
       "\n",
       "    .dataframe tbody tr th {\n",
       "        vertical-align: top;\n",
       "    }\n",
       "\n",
       "    .dataframe thead th {\n",
       "        text-align: right;\n",
       "    }\n",
       "</style>\n",
       "<table border=\"1\" class=\"dataframe\">\n",
       "  <thead>\n",
       "    <tr style=\"text-align: right;\">\n",
       "      <th></th>\n",
       "      <th>attribute</th>\n",
       "      <th>value</th>\n",
       "    </tr>\n",
       "  </thead>\n",
       "  <tbody>\n",
       "    <tr>\n",
       "      <td>0</td>\n",
       "      <td>1y Target Est</td>\n",
       "      <td>190.2</td>\n",
       "    </tr>\n",
       "    <tr>\n",
       "      <td>1</td>\n",
       "      <td>52 Week Range</td>\n",
       "      <td>122.86 - 182.94</td>\n",
       "    </tr>\n",
       "    <tr>\n",
       "      <td>2</td>\n",
       "      <td>Ask</td>\n",
       "      <td>147.25 x 1100</td>\n",
       "    </tr>\n",
       "    <tr>\n",
       "      <td>3</td>\n",
       "      <td>Avg. Volume</td>\n",
       "      <td>9.52699e+07</td>\n",
       "    </tr>\n",
       "    <tr>\n",
       "      <td>4</td>\n",
       "      <td>Beta (5Y Monthly)</td>\n",
       "      <td>NaN</td>\n",
       "    </tr>\n",
       "    <tr>\n",
       "      <td>5</td>\n",
       "      <td>Bid</td>\n",
       "      <td>147.27 x 800</td>\n",
       "    </tr>\n",
       "    <tr>\n",
       "      <td>6</td>\n",
       "      <td>Day's Range</td>\n",
       "      <td>143.11 - 148.10</td>\n",
       "    </tr>\n",
       "    <tr>\n",
       "      <td>7</td>\n",
       "      <td>EPS (TTM)</td>\n",
       "      <td>6.14</td>\n",
       "    </tr>\n",
       "    <tr>\n",
       "      <td>8</td>\n",
       "      <td>Earnings Date</td>\n",
       "      <td>Jul 25, 2022 - Jul 29, 2022</td>\n",
       "    </tr>\n",
       "    <tr>\n",
       "      <td>9</td>\n",
       "      <td>Ex-Dividend Date</td>\n",
       "      <td>May 06, 2022</td>\n",
       "    </tr>\n",
       "    <tr>\n",
       "      <td>10</td>\n",
       "      <td>Forward Dividend &amp; Yield</td>\n",
       "      <td>0.92 (0.63%)</td>\n",
       "    </tr>\n",
       "    <tr>\n",
       "      <td>11</td>\n",
       "      <td>Market Cap</td>\n",
       "      <td>2.381T</td>\n",
       "    </tr>\n",
       "    <tr>\n",
       "      <td>12</td>\n",
       "      <td>Open</td>\n",
       "      <td>144.59</td>\n",
       "    </tr>\n",
       "    <tr>\n",
       "      <td>13</td>\n",
       "      <td>PE Ratio (TTM)</td>\n",
       "      <td>23.97</td>\n",
       "    </tr>\n",
       "    <tr>\n",
       "      <td>14</td>\n",
       "      <td>Previous Close</td>\n",
       "      <td>142.56</td>\n",
       "    </tr>\n",
       "    <tr>\n",
       "      <td>15</td>\n",
       "      <td>Quote Price</td>\n",
       "      <td>147.11</td>\n",
       "    </tr>\n",
       "    <tr>\n",
       "      <td>16</td>\n",
       "      <td>Volume</td>\n",
       "      <td>1.11199e+08</td>\n",
       "    </tr>\n",
       "  </tbody>\n",
       "</table>\n",
       "</div>"
      ],
      "text/plain": [
       "                   attribute                        value\n",
       "0              1y Target Est                        190.2\n",
       "1              52 Week Range              122.86 - 182.94\n",
       "2                        Ask                147.25 x 1100\n",
       "3                Avg. Volume                  9.52699e+07\n",
       "4          Beta (5Y Monthly)                          NaN\n",
       "5                        Bid                 147.27 x 800\n",
       "6                Day's Range              143.11 - 148.10\n",
       "7                  EPS (TTM)                         6.14\n",
       "8              Earnings Date  Jul 25, 2022 - Jul 29, 2022\n",
       "9           Ex-Dividend Date                 May 06, 2022\n",
       "10  Forward Dividend & Yield                 0.92 (0.63%)\n",
       "11                Market Cap                       2.381T\n",
       "12                      Open                       144.59\n",
       "13            PE Ratio (TTM)                        23.97\n",
       "14            Previous Close                       142.56\n",
       "15               Quote Price                       147.11\n",
       "16                    Volume                  1.11199e+08"
      ]
     },
     "metadata": {},
     "output_type": "display_data"
    },
    {
     "data": {
      "text/plain": [
       "{'1y Target Est': 190.2,\n",
       " '52 Week Range': '122.86 - 182.94',\n",
       " 'Ask': '147.25 x 1100',\n",
       " 'Avg. Volume': 95269919.0,\n",
       " 'Beta (5Y Monthly)': nan,\n",
       " 'Bid': '147.27 x 800',\n",
       " \"Day's Range\": '143.11 - 148.10',\n",
       " 'EPS (TTM)': 6.14,\n",
       " 'Earnings Date': 'Jul 25, 2022 - Jul 29, 2022',\n",
       " 'Ex-Dividend Date': 'May 06, 2022',\n",
       " 'Forward Dividend & Yield': '0.92 (0.63%)',\n",
       " 'Market Cap': '2.381T',\n",
       " 'Open': 144.59,\n",
       " 'PE Ratio (TTM)': 23.97,\n",
       " 'Previous Close': 142.56,\n",
       " 'Quote Price': 147.11000061035156,\n",
       " 'Volume': 111199146.0}"
      ]
     },
     "metadata": {},
     "output_type": "display_data"
    }
   ],
   "source": [
    "# get quote table back as a data frame\n",
    "df=si.get_quote_table(\"aapl\", dict_result = False)\n",
    " \n",
    "# or get it back as a dictionary (default)\n",
    "dict=si.get_quote_table(\"aapl\")\n",
    "display(df)\n",
    "display(dict)\n"
   ]
  }
 ],
 "metadata": {
  "interpreter": {
   "hash": "e5fa231120992a319e9cef691229418b9b238074e6120a35875e07c66bb8d3e0"
  },
  "kernelspec": {
   "display_name": "Python 3.7.4 ('base')",
   "language": "python",
   "name": "python3"
  },
  "language_info": {
   "codemirror_mode": {
    "name": "ipython",
    "version": 3
   },
   "file_extension": ".py",
   "mimetype": "text/x-python",
   "name": "python",
   "nbconvert_exporter": "python",
   "pygments_lexer": "ipython3",
   "version": "3.7.4"
  },
  "orig_nbformat": 4
 },
 "nbformat": 4,
 "nbformat_minor": 2
}
