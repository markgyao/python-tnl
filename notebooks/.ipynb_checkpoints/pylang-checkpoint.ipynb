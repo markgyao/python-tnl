{
 "cells": [
  {
   "cell_type": "markdown",
   "metadata": {},
   "source": [
    "# Generator"
   ]
  },
  {
   "cell_type": "code",
   "execution_count": null,
   "metadata": {},
   "outputs": [],
   "source": [
    "def squre_num(lst):\n",
    "    for n in lst:\n",
    "        yield (n*n)\n",
    "\n",
    "x=[n for n in range(10)]\n",
    "xx=squre_num(x)\n",
    "\n",
    "for n in xx:\n",
    "    print(n)"
   ]
  },
  {
   "cell_type": "code",
   "execution_count": null,
   "metadata": {},
   "outputs": [],
   "source": []
  },
  {
   "cell_type": "code",
   "execution_count": 27,
   "metadata": {},
   "outputs": [
    {
     "name": "stdout",
     "output_type": "stream",
     "text": [
      "Took 0.00031200000000009 Seconds\n"
     ]
    },
    {
     "name": "stderr",
     "output_type": "stream",
     "text": [
      "/Users/markgyao/opt/anaconda3/lib/python3.7/site-packages/ipykernel_launcher.py:31: DeprecationWarning: time.clock has been deprecated in Python 3.3 and will be removed from Python 3.8: use time.perf_counter or time.process_time instead\n",
      "/Users/markgyao/opt/anaconda3/lib/python3.7/site-packages/ipykernel_launcher.py:34: DeprecationWarning: time.clock has been deprecated in Python 3.3 and will be removed from Python 3.8: use time.perf_counter or time.process_time instead\n"
     ]
    }
   ],
   "source": [
    "\n",
    "import random\n",
    "import time\n",
    "\n",
    "names = ['John', 'Corey', 'Adam', 'Steve', 'Rick', 'Thomas']\n",
    "majors = ['Math', 'Engineering', 'CompSci', 'Arts', 'Business']\n",
    "\n",
    "#print 'Memory (Before): {}Mb'.format(mem_profile.memory_usage_psutil())\n",
    "\n",
    "def people_list(num_people):\n",
    "    result = []\n",
    "    for i in xrange(num_people):\n",
    "        person = {\n",
    "                    'id': i,\n",
    "                    'name': random.choice(names),\n",
    "                    'major': random.choice(majors)\n",
    "                }\n",
    "        result.append(person)\n",
    "    return result\n",
    "\n",
    "def people_generator(num_people):\n",
    "    for i in xrange(num_people):\n",
    "        person = {\n",
    "                    'id': i,\n",
    "                    'name': random.choice(names),\n",
    "                    'major': random.choice(majors)\n",
    "                }\n",
    "        yield person\n",
    "\n",
    "\n",
    "n=1000000\n",
    "t1 = time.clock()\n",
    "#people = people_generator(n)\n",
    "people = people_list(n)\n",
    "t2 = time.clock()\n",
    "\n",
    "#print 'Memory (After) : {}Mb'.format(mem_profile.memory_usage_psutil())\n",
    "print('Took {} Seconds'.format(t2-t1))"
   ]
  },
  {
   "cell_type": "markdown",
   "metadata": {},
   "source": [
    "# Map/filter/reduce"
   ]
  },
  {
   "cell_type": "code",
   "execution_count": null,
   "metadata": {},
   "outputs": [],
   "source": [
    "\"\"\" Iterator and Generator \n",
    "\"\"\"\n",
    "\n"
   ]
  },
  {
   "cell_type": "markdown",
   "metadata": {},
   "source": [
    "# Array"
   ]
  },
  {
   "cell_type": "markdown",
   "metadata": {},
   "source": [
    "## - comprehension"
   ]
  },
  {
   "cell_type": "code",
   "execution_count": null,
   "metadata": {},
   "outputs": [],
   "source": [
    "\"\"\" Comprehension\n",
    "    create or transfrom a collection\n",
    "    [expr for x in collec if ...], [expr for x in collec1 for y in collec2 if ...]     \n",
    "\"\"\"\n",
    "X=[[1,3,5],[2,4,6]]\n",
    "# for list\n",
    "X=[[1,3,5],[2,4,6]]\n",
    "r=[n*2 for n in X[0]]\n",
    "r=[n*2 for n in range(1,10+1) if n<5] #create a list\n",
    "r=[num%2==0 for num in X[0]+X[1]]\n",
    "\n",
    "#for turple\n",
    "r=((n,n*2) for n in range(1,10+1) if n<5) #create turple of turples\n",
    "r=[(x,y) for x in X[0] for y in X[1] ] # create a list of turple wit hcartesian X[0] and X[1]\n",
    "\n",
    "#for set\n",
    "r={n*2 for n in range(1,10+1) if n<5}\n",
    "\n",
    "#for dict\n",
    "r={n:n*2 for n in range(1,10+1) if n<5}\n"
   ]
  },
  {
   "cell_type": "markdown",
   "metadata": {},
   "source": [
    "## -  slice"
   ]
  },
  {
   "cell_type": "code",
   "execution_count": null,
   "metadata": {},
   "outputs": [],
   "source": [
    "#-------------- slicing\n",
    "x=[10, 9, 8, 7, 6, 5, 4, 3, 2, 1]\n",
    "print(x[2:7:2]) # [8, 7, 6, 5, 4]\n",
    "print(x[7:2:-1]) #[3, 4, 5, 6, 7]\n",
    "\n",
    "aList=list(range(10))  \n",
    "a, b, c, d = aList[0:4]\n",
    "print(f'a = {a}, b = {b}, c = {c}, d = {d}')\n",
    "# a = 0, b = 1, c = 2, d = 3\n",
    "\n",
    "a, *b, c, d = aList\n",
    "print(f'a = {a}, b = {b}, c = {c}, d = {d}')\n",
    "# a = 0, b = [1, 2, 3, 4, 5, 6, 7], c = 8, d = 9"
   ]
  },
  {
   "cell_type": "markdown",
   "metadata": {},
   "source": [
    "## - zip"
   ]
  },
  {
   "cell_type": "code",
   "execution_count": null,
   "metadata": {},
   "outputs": [],
   "source": [
    "upperCase = ['A', 'B', 'C', 'D', 'E', 'F']\n",
    "lowerCase = ['a', 'b', 'c', 'd', 'e', 'f']\n",
    "for i, (upper, lower) in enumerate(zip(upperCase, lowerCase), 1):\n",
    "    print(f'{i}: {upper} and {lower}.')#-------------------zip\n",
    "numList = [0, 1, 2]\n",
    "engList = ['zero', 'one', 'two']\n",
    "espList = ['cero', 'uno', 'dos']\n",
    "print(list(zip(numList, engList, espList)))\n",
    "# [(0, 'zero', 'cero'), (1, 'one', 'uno'), (2, 'two', 'dos')]\n",
    "\n",
    "for num, eng, esp in zip(numList, engList, espList):\n",
    "    print(f'{num} is {eng} in English and {esp} in Spanish.')"
   ]
  },
  {
   "cell_type": "code",
   "execution_count": null,
   "metadata": {},
   "outputs": [],
   "source": [
    "ziped=zip(engList, espList, numList)\n",
    "Eng = list(ziped)\n",
    "Eng.sort() # sort by engList\n",
    "a, b, c = zip(*Eng)"
   ]
  },
  {
   "cell_type": "markdown",
   "metadata": {},
   "source": [
    "## - enumerator"
   ]
  },
  {
   "cell_type": "code",
   "execution_count": null,
   "metadata": {},
   "outputs": [],
   "source": [
    "upperCase = ['A', 'B', 'C', 'D', 'E', 'F']\n",
    "lowerCase = ['a', 'b', 'c', 'd', 'e', 'f']\n",
    "for i, (upper, lower) in enumerate(zip(upperCase, lowerCase), 1):\n",
    "    print(f'{i}: {upper} and {lower}.')"
   ]
  },
  {
   "cell_type": "markdown",
   "metadata": {},
   "source": [
    "# Lampda"
   ]
  },
  {
   "cell_type": "code",
   "execution_count": null,
   "metadata": {},
   "outputs": [],
   "source": [
    "\"\"\" Lambda\n",
    "    lambda args:expression\n",
    "\"\"\"\n",
    "f=lambda x:x*2\n",
    "r=[f(x) for x in [1,2]]\n",
    "r=[lambda x:x*2 for x in [1,25]] # wrong result\n",
    "r=[(lambda x:x*2)(x) for x in [1,25]]\n",
    "\n",
    "r\n"
   ]
  },
  {
   "cell_type": "markdown",
   "metadata": {},
   "source": [
    "# 10 Useful Tips"
   ]
  },
  {
   "cell_type": "code",
   "execution_count": null,
   "metadata": {},
   "outputs": [],
   "source": [
    "\"\"\"\n",
    "Top tips https://www.youtube.com/watch?v=C-gEQdGVXbk\n",
    "\"\"\"\n",
    "#1) Ternary Conditionals, comppact if lese==> \n",
    "x=-2\n",
    "x=1 if x>1 else 0\n",
    "\n",
    "#2) Underscore Placeholders - 2:13\n",
    "n1=10_000_000_000\n",
    "n2=100_000_000 # same as n2=100000000\n",
    "tot=n1+n2\n",
    "print(f'{tot:,}')\n",
    "\n",
    "#3) Context Managers - 4:25\n",
    "with open('text.txt',r) as f: # with claus will be managed as context, no need to worry f.close()\n",
    "    #do something with the f\n",
    "    \n",
    "#4) Enumerate: get index and item same time when looping through list\n",
    "names=['a','b','c','d']\n",
    "for index, name in enumerate(names):\n",
    "    print (index, name)\n",
    "    \n",
    "#5)zip and unpacking\n",
    "arr1=['a','b','c','d']\n",
    "arr2=['1','2','3','4']\n",
    "for a1, a2 in zip(arr1,arr2):\n",
    "    print('f{a1} is corresponding to {a2}')\n",
    "\n",
    "#unpacking\n",
    "for val in zip(arr1,arr2):\n",
    "    print(val)\n",
    "a,b=(1,2) #unpack tuple (1,2) inot var a, b\n",
    "print(a,b)\n",
    "a,_=(1,2)\n",
    "print(a)\n",
    "a,b,*c=(1,2,3,4,5)\n",
    "print (a,b,c)\n",
    "a,b,*_=(1,2,3,4,5)\n",
    "print (a,b)\n",
    "a,b,*c,d=(1,2,3,4,5,6,7) \n",
    "a,b,*_,d=(1,2,3,4,5,6,7) \n",
    "\n",
    "\n",
    "#7) Setattr/Getattr - 19:08\n",
    "class Person()\n",
    "person=Person()\n",
    "setarr(person,'first','courey')\n",
    "print(person.first)\n",
    "\n",
    "firstVal=getatt(person,'first')\n",
    "print(person.firstVal)\n",
    "\n",
    "person_info={'first':'Corey','last':'Schafer'}\n",
    "for key, val in person_info.items():\n",
    "    setatrr(person,key,val)\n",
    "for key in person_info.keys()    :\n",
    "    print(getattr(person,key))\n",
    "    \n",
    "     \n",
    "#8) GetPass - 26:24\n",
    "from getpass import getpass\n",
    "username=input('Username: ')\n",
    "passowrd=getpass('Password')\n",
    "print('logging ..')\n",
    "\n",
    "#9) Python dash -m <moduleName>\n",
    "#search environment system path for the <moduleName> for \n",
    "\n",
    "#10) Help/Dir - 33:17 \n",
    "#help(moduleName), dir(moduleName)==> display all attributes and method\n"
   ]
  },
  {
   "cell_type": "code",
   "execution_count": null,
   "metadata": {},
   "outputs": [],
   "source": [
    "\"\"\" map/filter/reduce\n",
    "\"\"\""
   ]
  },
  {
   "cell_type": "code",
   "execution_count": null,
   "metadata": {},
   "outputs": [],
   "source": [
    "#string join with arry of array\n",
    "a=[1.0,2,3]\n",
    "b='-'.join([str(i) for i in a])\n",
    "print(b)"
   ]
  },
  {
   "cell_type": "code",
   "execution_count": null,
   "metadata": {},
   "outputs": [],
   "source": [
    "\"\"\" Miscilinious \n",
    "any(), all(), sorted(), collections.Counter()\n",
    "\"\"\"\n",
    "\n",
    "\"\"\" --------------> any() and all\n",
    "any=> evaluate a collection of expression, return true if any of element is true else return false\n",
    "all=> return true only if all elements are true\n",
    "\"\"\"\n",
    "X=[[1,3,5],[2,4,6]]\n",
    "any([num%2==0 for num in X[0]+X[1]])\n",
    "all([num%2==0 for num in X[0]+X[1]])"
   ]
  }
 ],
 "metadata": {
  "kernelspec": {
   "display_name": "Python 3",
   "language": "python",
   "name": "python3"
  },
  "language_info": {
   "codemirror_mode": {
    "name": "ipython",
    "version": 3
   },
   "file_extension": ".py",
   "mimetype": "text/x-python",
   "name": "python",
   "nbconvert_exporter": "python",
   "pygments_lexer": "ipython3",
   "version": "3.7.4"
  }
 },
 "nbformat": 4,
 "nbformat_minor": 2
}
