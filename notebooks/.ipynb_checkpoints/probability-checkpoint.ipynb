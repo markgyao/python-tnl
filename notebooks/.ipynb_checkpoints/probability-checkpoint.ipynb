{
 "cells": [
  {
   "cell_type": "code",
   "execution_count": 23,
   "metadata": {
    "scrolled": true
   },
   "outputs": [],
   "source": [
    "from math import factorial as fact\n",
    "#Same birthday problem, find probability at least one occurance of two peole has same birthday for a group of N people \n",
    "def sameBirthDay(N):\n",
    "    return fact(365)/fact(365-N)/(365.0)**N\n",
    "\n",
    "#Test positive for a sick/disease: \n",
    "# 1) a test has accuracy rate of A for certian sick/disease\n",
    "# 2) the chance to get sick/disease for the population is S\n",
    "# 3) what is probability of you get sick/disease if your test result is postive\n",
    "def sickIfTestPositive(A,S):\n",
    "    return A*S/((1-A)*(1-S)+A*S)\n",
    "\n",
    "\n",
    "\n"
   ]
  },
  {
   "cell_type": "code",
   "execution_count": 24,
   "metadata": {},
   "outputs": [
    {
     "name": "stdout",
     "output_type": "stream",
     "text": [
      "0.0909016527573\n"
     ]
    }
   ],
   "source": [
    "a=0.9999\n",
    "s=1000./100000000.\n",
    "print sickIfTestPositive(a,s)"
   ]
  }
 ],
 "metadata": {
  "kernelspec": {
   "display_name": "Python 2",
   "language": "python",
   "name": "python2"
  },
  "language_info": {
   "codemirror_mode": {
    "name": "ipython",
    "version": 2
   },
   "file_extension": ".py",
   "mimetype": "text/x-python",
   "name": "python",
   "nbconvert_exporter": "python",
   "pygments_lexer": "ipython2",
   "version": "2.7.15"
  }
 },
 "nbformat": 4,
 "nbformat_minor": 2
}
