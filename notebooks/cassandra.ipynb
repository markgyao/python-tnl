{
 "cells": [
  {
   "cell_type": "code",
   "execution_count": 10,
   "metadata": {},
   "outputs": [
    {
     "ename": "ImportError",
     "evalue": "cannot import name 'PROTOCOL_TLSvl' from 'ssl' (C:\\Anaconda3\\lib\\ssl.py)",
     "output_type": "error",
     "traceback": [
      "\u001b[1;31m---------------------------------------------------------------------------\u001b[0m",
      "\u001b[1;31mImportError\u001b[0m                               Traceback (most recent call last)",
      "\u001b[1;32m<ipython-input-10-709a68e38b9b>\u001b[0m in \u001b[0;36m<module>\u001b[1;34m\u001b[0m\n\u001b[0;32m      3\u001b[0m \u001b[1;32mfrom\u001b[0m \u001b[0mcassandra\u001b[0m\u001b[1;33m.\u001b[0m\u001b[0mpolicies\u001b[0m \u001b[1;32mimport\u001b[0m \u001b[0mDCAwareRoundRobinPolicy\u001b[0m\u001b[1;33m\u001b[0m\u001b[1;33m\u001b[0m\u001b[0m\n\u001b[0;32m      4\u001b[0m \u001b[1;33m\u001b[0m\u001b[0m\n\u001b[1;32m----> 5\u001b[1;33m \u001b[1;32mfrom\u001b[0m \u001b[0mssl\u001b[0m \u001b[1;32mimport\u001b[0m \u001b[0mPROTOCOL_TLSvl\u001b[0m\u001b[1;33m\u001b[0m\u001b[1;33m\u001b[0m\u001b[0m\n\u001b[0m\u001b[0;32m      6\u001b[0m \u001b[1;33m\u001b[0m\u001b[0m\n\u001b[0;32m      7\u001b[0m \u001b[1;33m\u001b[0m\u001b[0m\n",
      "\u001b[1;31mImportError\u001b[0m: cannot import name 'PROTOCOL_TLSvl' from 'ssl' (C:\\Anaconda3\\lib\\ssl.py)"
     ]
    }
   ],
   "source": [
    "from cassandra.cluster import Cluster\n",
    "from cassandra.auth import PlainTextAuthProvider\n",
    "from cassandra.policies import DCAwareRoundRobinPolicy\n",
    "\n",
    "from ssl import PROTOCOL_TLSvl,SSLContext,CERT_REQUIRED\n",
    "\n",
    "ssl_context=SSLContext(PROTOCOL_TLSvl)\n",
    "\n",
    "cluseter = Cluster(\n",
    "    contact_points=['xxx.xxx.xxx.xxx','xxx.xxx.xxx.xxx'],\n",
    "    protocol_version=3,\n",
    "    connect_timeout=60,\n",
    "    autho_provider=PlainTextAuthProvider(\n",
    "        username=\"\", password=\"\"),\n",
    "    ssl_context=ssl_context,\n",
    "    port=9042\n",
    "    )\n",
    "\n",
    "session=cluster.connect('udf_sense_dev_2')\n",
    "\n",
    "tableName='service_blueprint'\n",
    "query=\"select * from {}\".format(tableName)\n",
    "rows=session.execute(query)\n",
    "for row in rows:\n",
    "    print(row.udf_id,row.udf_evn)\n",
    "\n",
    "\n",
    "import pandas as pd\n",
    "df=pd.DataFrmae(list(session.execute(query)))\n",
    "df.shape\n",
    "\n",
    "\n",
    "\n",
    "\n"
   ]
  }
 ],
 "metadata": {
  "kernelspec": {
   "display_name": "Python 3",
   "language": "python",
   "name": "python3"
  },
  "language_info": {
   "codemirror_mode": {
    "name": "ipython",
    "version": 3
   },
   "file_extension": ".py",
   "mimetype": "text/x-python",
   "name": "python",
   "nbconvert_exporter": "python",
   "pygments_lexer": "ipython3",
   "version": "3.7.1"
  }
 },
 "nbformat": 4,
 "nbformat_minor": 2
}
