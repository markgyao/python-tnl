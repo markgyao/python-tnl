{
 "cells": [
  {
   "cell_type": "code",
   "execution_count": null,
   "metadata": {},
   "outputs": [],
   "source": []
  },
  {
   "cell_type": "code",
   "execution_count": 5,
   "metadata": {},
   "outputs": [
    {
     "name": "stdout",
     "output_type": "stream",
     "text": [
      "10,100,000,000\n"
     ]
    }
   ],
   "source": [
    "\"\"\"\n",
    "Top tips https://www.youtube.com/watch?v=C-gEQdGVXbk\n",
    "\"\"\"\n",
    "#1) Ternary Conditionals, comppact if lese==> \n",
    "x=-2\n",
    "x=1 if x>1 else 0\n",
    "\n",
    "#2) Underscore Placeholders - 2:13\n",
    "n1=10_000_000_000\n",
    "n2=100_000_000 # same as n2=100000000\n",
    "tot=n1+n2\n",
    "print(f'{tot:,}')\n",
    "\n",
    "#3) Context Managers - 4:25\n",
    "with open('text.txt',r) as f: # with claus will be managed as context, no need to worry f.close()\n",
    "    #do something with the f\n",
    "    \n",
    "#4) Enumerate: get index and item same time when looping through list\n",
    "names=['a','b','c','d']\n",
    "for index, name in enumerate(names):\n",
    "    print (index, name)\n",
    "    \n",
    "#5)zip and unpacking\n",
    "arr1=['a','b','c','d']\n",
    "arr2=['1','2','3','4']\n",
    "for a1, a2 in zip(arr1,arr2):\n",
    "    print('f{a1} is corresponding to {a2}')\n",
    "\n",
    "#unpacking\n",
    "for val in zip(arr1,arr2):\n",
    "    print(val)\n",
    "a,b=(1,2) #unpack tuple (1,2) inot var a, b\n",
    "print(a,b)\n",
    "a,_=(1,2)\n",
    "print(a)\n",
    "a,b,*c=(1,2,3,4,5)\n",
    "print (a,b,c)\n",
    "a,b,*_=(1,2,3,4,5)\n",
    "print (a,b)\n",
    "a,b,*c,d=(1,2,3,4,5,6,7) \n",
    "a,b,*_,d=(1,2,3,4,5,6,7) \n",
    "\n",
    "\n",
    "#7) Setattr/Getattr - 19:08\n",
    "class Person()\n",
    "person=Person()\n",
    "setarr(person,'first','courey')\n",
    "print(person.first)\n",
    "\n",
    "firstVal=getatt(person,'first')\n",
    "print(person.firstVal)\n",
    "\n",
    "person_info={'first':'Corey','last':'Schafer'}\n",
    "for key, val in person_info.items():\n",
    "    setatrr(person,key,val)\n",
    "for key in person_info.keys()    :\n",
    "    print(getattr(person,key))\n",
    "    \n",
    "     \n",
    "#8) GetPass - 26:24\n",
    "from getpass import getpass\n",
    "username=input('Username: ')\n",
    "passowrd=getpass('Password')\n",
    "print('logging ..')\n",
    "\n",
    "#9) Python dash -m <moduleName>\n",
    "#search environment system path for the <moduleName> for \n",
    "\n",
    "#10) Help/Dir - 33:17 \n",
    "#help(moduleName), dir(moduleName)==> display all attributes and method\n"
   ]
  },
  {
   "cell_type": "code",
   "execution_count": 2,
   "metadata": {},
   "outputs": [],
   "source": [
    "\"\"\" Comprehension\n",
    "    create or transfrom a collection\n",
    "    [expr for x in collec if ...], [expr for x in collec1 for y in collec2 if ...]     \n",
    "\"\"\"\n",
    "X=[[1,3,5],[2,4,6]]\n",
    "# for list\n",
    "X=[[1,3,5],[2,4,6]]\n",
    "r=[n*2 for n in X[0]]\n",
    "r=[n*2 for n in range(1,10+1) if n<5] #create a list\n",
    "r=[num%2==0 for num in X[0]+X[1]]\n",
    "\n",
    "#for turple\n",
    "r=((n,n*2) for n in range(1,10+1) if n<5) #create turple of turples\n",
    "r=[(x,y) for x in X[0] for y in X[1] ] # create a list of turple wit hcartesian X[0] and X[1]\n",
    "\n",
    "#for set\n",
    "r={n*2 for n in range(1,10+1) if n<5}\n",
    "\n",
    "#for dict\n",
    "r={n:n*2 for n in range(1,10+1) if n<5}\n"
   ]
  },
  {
   "cell_type": "code",
   "execution_count": 3,
   "metadata": {},
   "outputs": [
    {
     "data": {
      "text/plain": [
       "[2, 50]"
      ]
     },
     "execution_count": 3,
     "metadata": {},
     "output_type": "execute_result"
    }
   ],
   "source": [
    "\"\"\" Lambda\n",
    "    lambda args:expression\n",
    "\"\"\"\n",
    "f=lambda x:x*2\n",
    "r=[f(x) for x in [1,2]]\n",
    "r=[lambda x:x*2 for x in [1,25]] # wrong result\n",
    "r=[(lambda x:x*2)(x) for x in [1,25]]\n",
    "\n",
    "r\n"
   ]
  },
  {
   "cell_type": "code",
   "execution_count": null,
   "metadata": {},
   "outputs": [],
   "source": [
    "\"\"\" Iterator and Generator \n",
    "\"\"\""
   ]
  },
  {
   "cell_type": "code",
   "execution_count": null,
   "metadata": {},
   "outputs": [],
   "source": [
    "\"\"\" map/filter/reduce\n",
    "\"\"\""
   ]
  },
  {
   "cell_type": "code",
   "execution_count": 13,
   "metadata": {},
   "outputs": [
    {
     "name": "stdout",
     "output_type": "stream",
     "text": [
      "1.0-2-3\n"
     ]
    }
   ],
   "source": [
    "#string join with arry of array\n",
    "a=[1.0,2,3]\n",
    "b='-'.join([str(i) for i in a])\n",
    "print(b)"
   ]
  },
  {
   "cell_type": "code",
   "execution_count": null,
   "metadata": {},
   "outputs": [],
   "source": [
    "\"\"\" Miscilinious \n",
    "any(), all(), sorted(), collections.Counter()\n",
    "\"\"\"\n",
    "\n",
    "\"\"\" --------------> any() and all\n",
    "any=> evaluate a collection of expression, return true if any of element is true else return false\n",
    "all=> return true only if all elements are true\n",
    "\"\"\"\n",
    "X=[[1,3,5],[2,4,6]]\n",
    "any([num%2==0 for num in X[0]+X[1]])\n",
    "all([num%2==0 for num in X[0]+X[1]])"
   ]
  }
 ],
 "metadata": {
  "kernelspec": {
   "display_name": "Python 3",
   "language": "python",
   "name": "python3"
  },
  "language_info": {
   "codemirror_mode": {
    "name": "ipython",
    "version": 3
   },
   "file_extension": ".py",
   "mimetype": "text/x-python",
   "name": "python",
   "nbconvert_exporter": "python",
   "pygments_lexer": "ipython3",
   "version": "3.7.1"
  }
 },
 "nbformat": 4,
 "nbformat_minor": 2
}
