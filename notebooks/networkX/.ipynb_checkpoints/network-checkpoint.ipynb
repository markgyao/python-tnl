{
 "cells": [
  {
   "cell_type": "code",
   "execution_count": null,
   "metadata": {},
   "outputs": [],
   "source": [
    "# A simple socket server \n",
    "'''\n",
    "    Simple socket server using threads\n",
    "'''\n",
    " \n",
    "import socket\n",
    "import sys\n",
    " \n",
    "HOST = ''   # Symbolic name, meaning all available interfaces\n",
    "PORT = 8888 # Arbitrary non-privileged port\n",
    " \n",
    "s = socket.socket(socket.AF_INET, socket.SOCK_STREAM)\n",
    "print 'Socket created'\n",
    " \n",
    "#Bind socket to local host and port\n",
    "try:\n",
    "    s.bind((HOST, PORT))\n",
    "except socket.error as msg:\n",
    "    print 'Bind failed. Error Code : ' + str(msg[0]) + ' Message ' + msg[1]\n",
    "    sys.exit()\n",
    "     \n",
    "print 'Socket bind complete'\n",
    " \n",
    "#Start listening on socket\n",
    "s.listen(10)\n",
    "print 'Socket now listening'\n",
    " \n",
    "#now keep talking with the client\n",
    "while 1:\n",
    "    #wait to accept a connection - blocking call\n",
    "    conn, addr = s.accept()\n",
    "    print 'Connected with ' + addr[0] + ':' + str(addr[1])\n",
    "     \n",
    "s.close()"
   ]
  }
 ],
 "metadata": {
  "kernelspec": {
   "display_name": "Python 2",
   "language": "python",
   "name": "python2"
  },
  "language_info": {
   "codemirror_mode": {
    "name": "ipython",
    "version": 2
   },
   "file_extension": ".py",
   "mimetype": "text/x-python",
   "name": "python",
   "nbconvert_exporter": "python",
   "pygments_lexer": "ipython2",
   "version": "2.7.15"
  }
 },
 "nbformat": 4,
 "nbformat_minor": 2
}
