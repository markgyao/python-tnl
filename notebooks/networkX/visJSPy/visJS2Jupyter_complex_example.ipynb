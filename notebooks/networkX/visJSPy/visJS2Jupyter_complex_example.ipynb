{
 "cells": [
  {
   "cell_type": "markdown",
   "metadata": {},
   "source": [
    "# More complex network styling for visJS2jupyter\n",
    "\n",
    "------------\n",
    "\n",
    "Authors: Brin Rosenthal (sbrosenthal@ucsd.edu), Mikayla Webster (m1webste@ucsd.edu), Julia Len (jlen@ucsd.edu)\n",
    "\n",
    "-----------\n",
    "\n"
   ]
  },
  {
   "cell_type": "markdown",
   "metadata": {},
   "source": [
    "## Import packages"
   ]
  },
  {
   "cell_type": "code",
   "execution_count": 2,
   "metadata": {},
   "outputs": [],
   "source": [
    "import numpy as np\n",
    "from random import randint\n",
    "import math\n",
    "import matplotlib as mpl\n",
    "import networkx as nx\n",
    "\n",
    "from visJS2jupyter import visJS_module\n"
   ]
  },
  {
   "cell_type": "code",
   "execution_count": 3,
   "metadata": {},
   "outputs": [],
   "source": [
    "# create a simple graph\n",
    "G = nx.connected_watts_strogatz_graph(30,5,.2)\n",
    "nodes = list(G.nodes()) # type cast to list in order to make compatible with networkx 1.11 and 2.0\n",
    "edges = list(G.edges()) # for nx 2.0, returns an \"EdgeView\" object rather than an iterable"
   ]
  },
  {
   "cell_type": "markdown",
   "metadata": {},
   "source": [
    "# Map node attributes to visual properties, and style the nodes and edges\n",
    "\n",
    "- To map node attributes to properties, simply add the property to the graph as a node-attribute, and use the return_node_to_color function"
   ]
  },
  {
   "cell_type": "code",
   "execution_count": 4,
   "metadata": {},
   "outputs": [],
   "source": [
    "# add a node attributes to color-code by\n",
    "cc = nx.clustering(G)\n",
    "degree = dict(G.degree()) # nx 2.0 returns a \"DegreeView\" object. Cast to dict to maintain compatibility with nx 1.11\n",
    "bc = nx.betweenness_centrality(G)\n",
    "\n",
    "nx.set_node_attributes(G, name = 'clustering_coefficient', values = cc) # parameter order for name and values is switched \n",
    "nx.set_node_attributes(G, name = 'degree', values = degree)             # between networkx 1.11 and 2.0, therefore we must\n",
    "nx.set_node_attributes(G, name = 'betweenness_centrality', values = bc) # explicitly pass our arguments \n",
    "                                                                        # (not implicitly through position) "
   ]
  },
  {
   "cell_type": "code",
   "execution_count": 5,
   "metadata": {},
   "outputs": [],
   "source": [
    "# add edge attribute weight\n",
    "weights=[randint(0,9) for p in range(len(edges))]\n",
    "edge_to_weight = dict(zip(edges, weights))\n",
    "nx.set_edge_attributes(G, name = 'weight', values = edge_to_weight)"
   ]
  },
  {
   "cell_type": "code",
   "execution_count": 6,
   "metadata": {},
   "outputs": [],
   "source": [
    "# setting shape of each node using a dictionary\n",
    "stars = ['star']*20 # some will be stars\n",
    "circles = ['dot']*10 # some will be circles\n",
    "shapes = stars + circles\n",
    "node_to_shape = dict(zip(nodes, shapes))"
   ]
  },
  {
   "cell_type": "markdown",
   "metadata": {},
   "source": [
    "<a id='interactive_network'></a>\n",
    "### Interactive network\n",
    "\n",
    "TIP: If you get errors running the following cell, try updating visJS2jupyter (pip install visJS2jupyter --upgrade). This cell is dependent on an update made on March 9th, 2018"
   ]
  },
  {
   "cell_type": "code",
   "execution_count": 7,
   "metadata": {},
   "outputs": [
    {
     "data": {
      "text/html": [
       "<!doctype html><html><head>  <title>Network | Basic usage</title></head><body><script type=\"text/javascript\">function setUpFrame() {     var frame = window.frames[\"style_file0\"];    frame.runVis([{\"id\": 0, \"color\": \"rgba(256, 0, 256, 1)\", \"degree\": 6, \"node_shape\": \"star\", \"x\": -73.70227151990342, \"y\": -95.39060667906531, \"border_width\": 0, \"title\": 0}, {\"id\": 1, \"color\": \"rgba(256, 0, 256, 1)\", \"degree\": 3, \"node_shape\": \"star\", \"x\": 24.840107439512956, \"y\": 208.31780661367267, \"border_width\": 0, \"title\": 1}, {\"id\": 2, \"color\": \"rgba(256, 127, 128, 1)\", \"degree\": 4, \"node_shape\": \"star\", \"x\": -227.10968882685853, \"y\": 464.5325211982026, \"border_width\": 0, \"title\": 2}, {\"id\": 3, \"color\": \"rgba(256, 223, 32, 1)\", \"degree\": 3, \"node_shape\": \"star\", \"x\": -247.26007988513334, \"y\": 657.0831897144606, \"border_width\": 0, \"title\": 3}, {\"id\": 4, \"color\": \"rgba(256, 0, 256, 1)\", \"degree\": 6, \"node_shape\": \"star\", \"x\": -169.2405224619613, \"y\": 507.82483247225764, \"border_width\": 0, \"title\": 4}, {\"id\": 5, \"color\": \"rgba(256, 173, 82, 1)\", \"degree\": 4, \"node_shape\": \"star\", \"x\": -51.19476908509351, \"y\": 663.6415312505201, \"border_width\": 0, \"title\": 5}, {\"id\": 6, \"color\": \"rgba(256, 148, 107, 1)\", \"degree\": 4, \"node_shape\": \"star\", \"x\": -61.82296092376217, \"y\": 495.1061219529436, \"border_width\": 0, \"title\": 6}, {\"id\": 7, \"color\": \"rgba(256, 104, 151, 1)\", \"degree\": 3, \"node_shape\": \"star\", \"x\": 300.7997758853714, \"y\": 356.18306603521916, \"border_width\": 0, \"title\": 7}, {\"id\": 8, \"color\": \"rgba(256, 21, 234, 1)\", \"degree\": 4, \"node_shape\": \"star\", \"x\": 156.84412325069746, \"y\": 205.4724407490339, \"border_width\": 0, \"title\": 8}, {\"id\": 9, \"color\": \"rgba(256, 8, 247, 1)\", \"degree\": 4, \"node_shape\": \"star\", \"x\": 369.07242327578365, \"y\": 161.45942296507008, \"border_width\": 0, \"title\": 9}, {\"id\": 10, \"color\": \"rgba(256, 131, 124, 1)\", \"degree\": 3, \"node_shape\": \"star\", \"x\": 437.4223160377873, \"y\": -125.50448015534248, \"border_width\": 0, \"title\": 10}, {\"id\": 11, \"color\": \"rgba(256, 25, 230, 1)\", \"degree\": 4, \"node_shape\": \"star\", \"x\": 353.7947658490295, \"y\": -334.2386918060685, \"border_width\": 0, \"title\": 11}, {\"id\": 12, \"color\": \"rgba(256, 143, 112, 1)\", \"degree\": 3, \"node_shape\": \"star\", \"x\": 222.34218696496782, \"y\": -259.2374193494564, \"border_width\": 0, \"title\": 12}, {\"id\": 13, \"color\": \"rgba(256, 142, 113, 1)\", \"degree\": 3, \"node_shape\": \"star\", \"x\": 354.49991739048994, \"y\": -148.53731350296695, \"border_width\": 0, \"title\": 13}, {\"id\": 14, \"color\": \"rgba(256, 118, 137, 1)\", \"degree\": 4, \"node_shape\": \"star\", \"x\": 324.181889829227, \"y\": -6.255404791025792, \"border_width\": 0, \"title\": 14}, {\"id\": 15, \"color\": \"rgba(256, 72, 183, 1)\", \"degree\": 5, \"node_shape\": \"star\", \"x\": 207.80940560427328, \"y\": 27.159206166659708, \"border_width\": 0, \"title\": 15}, {\"id\": 16, \"color\": \"rgba(256, 0, 256, 1)\", \"degree\": 6, \"node_shape\": \"star\", \"x\": 35.28039314535126, \"y\": 9.461199834975272, \"border_width\": 0, \"title\": 16}, {\"id\": 17, \"color\": \"rgba(256, 66, 189, 1)\", \"degree\": 5, \"node_shape\": \"star\", \"x\": -78.98629914364284, \"y\": 55.64081408547074, \"border_width\": 0, \"title\": 17}, {\"id\": 18, \"color\": \"rgba(256, 0, 256, 1)\", \"degree\": 5, \"node_shape\": \"star\", \"x\": -196.84760185199104, \"y\": 248.82764315087857, \"border_width\": 0, \"title\": 18}, {\"id\": 19, \"color\": \"rgba(256, 31, 224, 1)\", \"degree\": 5, \"node_shape\": \"star\", \"x\": -193.62401076084907, \"y\": 42.87233870194022, \"border_width\": 0, \"title\": 19}, {\"id\": 20, \"color\": \"rgba(256, 103, 152, 1)\", \"degree\": 3, \"node_shape\": \"dot\", \"x\": -352.52496889672415, \"y\": 76.54384662057217, \"border_width\": 0, \"title\": 20}, {\"id\": 21, \"color\": \"rgba(256, 120, 135, 1)\", \"degree\": 3, \"node_shape\": \"dot\", \"x\": -325.9512495347608, \"y\": 336.503992990869, \"border_width\": 0, \"title\": 21}, {\"id\": 22, \"color\": \"rgba(256, 53, 202, 1)\", \"degree\": 4, \"node_shape\": \"dot\", \"x\": 113.87966498924064, \"y\": -411.43236524879757, \"border_width\": 0, \"title\": 22}, {\"id\": 23, \"color\": \"rgba(256, 206, 49, 1)\", \"degree\": 3, \"node_shape\": \"dot\", \"x\": -55.2798674375119, \"y\": -700.0, \"border_width\": 0, \"title\": 23}, {\"id\": 24, \"color\": \"rgba(256, 90, 165, 1)\", \"degree\": 4, \"node_shape\": \"dot\", \"x\": 0.29889451989222016, \"y\": -486.85226688115114, \"border_width\": 0, \"title\": 24}, {\"id\": 25, \"color\": \"rgba(256, 103, 152, 1)\", \"degree\": 4, \"node_shape\": \"dot\", \"x\": -107.49592966813566, \"y\": -570.3592340641817, \"border_width\": 0, \"title\": 25}, {\"id\": 26, \"color\": \"rgba(256, 152, 103, 1)\", \"degree\": 4, \"node_shape\": \"dot\", \"x\": -262.16041902498114, \"y\": -504.2354472279644, \"border_width\": 0, \"title\": 26}, {\"id\": 27, \"color\": \"rgba(256, 41, 214, 1)\", \"degree\": 4, \"node_shape\": \"dot\", \"x\": -131.10745907348584, \"y\": -289.489077416789, \"border_width\": 0, \"title\": 27}, {\"id\": 28, \"color\": \"rgba(256, 97, 158, 1)\", \"degree\": 4, \"node_shape\": \"dot\", \"x\": 10.646900735235043, \"y\": -253.22972648358459, \"border_width\": 0, \"title\": 28}, {\"id\": 29, \"color\": \"rgba(256, 194, 61, 1)\", \"degree\": 3, \"node_shape\": \"dot\", \"x\": -377.4046668220635, \"y\": -331.86794089635043, \"border_width\": 0, \"title\": 29}], [{\"source\": 0, \"target\": 1, \"color\": \"rgba(128, 0, 0, 1.0)\"}, {\"source\": 0, \"target\": 29, \"color\": \"rgba(0, 76, 256, 1.0)\"}, {\"source\": 0, \"target\": 28, \"color\": \"rgba(128, 0, 0, 1.0)\"}, {\"source\": 0, \"target\": 17, \"color\": \"rgba(128, 0, 0, 1.0)\"}, {\"source\": 0, \"target\": 19, \"color\": \"rgba(128, 0, 0, 1.0)\"}, {\"source\": 0, \"target\": 24, \"color\": \"rgba(41, 256, 206, 1.0)\"}, {\"source\": 1, \"target\": 9, \"color\": \"rgba(206, 256, 41, 1.0)\"}, {\"source\": 1, \"target\": 4, \"color\": \"rgba(206, 256, 41, 1.0)\"}, {\"source\": 2, \"target\": 3, \"color\": \"rgba(128, 0, 0, 1.0)\"}, {\"source\": 2, \"target\": 4, \"color\": \"rgba(256, 104, 0, 1.0)\"}, {\"source\": 2, \"target\": 6, \"color\": \"rgba(128, 0, 0, 1.0)\"}, {\"source\": 2, \"target\": 18, \"color\": \"rgba(128, 0, 0, 1.0)\"}, {\"source\": 3, \"target\": 4, \"color\": \"rgba(128, 0, 0, 1.0)\"}, {\"source\": 3, \"target\": 5, \"color\": \"rgba(41, 256, 206, 1.0)\"}, {\"source\": 4, \"target\": 5, \"color\": \"rgba(128, 0, 0, 1.0)\"}, {\"source\": 4, \"target\": 6, \"color\": \"rgba(128, 0, 0, 1.0)\"}, {\"source\": 4, \"target\": 21, \"color\": \"rgba(128, 0, 0, 1.0)\"}, {\"source\": 5, \"target\": 6, \"color\": \"rgba(0, 0, 128, 1.0)\"}, {\"source\": 5, \"target\": 7, \"color\": \"rgba(0, 76, 256, 1.0)\"}, {\"source\": 6, \"target\": 8, \"color\": \"rgba(41, 256, 206, 1.0)\"}, {\"source\": 7, \"target\": 8, \"color\": \"rgba(128, 0, 0, 1.0)\"}, {\"source\": 7, \"target\": 9, \"color\": \"rgba(128, 0, 0, 1.0)\"}, {\"source\": 8, \"target\": 15, \"color\": \"rgba(128, 0, 0, 1.0)\"}, {\"source\": 8, \"target\": 16, \"color\": \"rgba(128, 0, 0, 1.0)\"}, {\"source\": 9, \"target\": 10, \"color\": \"rgba(128, 0, 0, 1.0)\"}, {\"source\": 9, \"target\": 11, \"color\": \"rgba(0, 0, 128, 1.0)\"}, {\"source\": 10, \"target\": 11, \"color\": \"rgba(256, 104, 0, 1.0)\"}, {\"source\": 10, \"target\": 12, \"color\": \"rgba(128, 0, 0, 1.0)\"}, {\"source\": 11, \"target\": 13, \"color\": \"rgba(128, 0, 0, 1.0)\"}, {\"source\": 11, \"target\": 22, \"color\": \"rgba(128, 0, 0, 1.0)\"}, {\"source\": 12, \"target\": 26, \"color\": \"rgba(0, 0, 128, 1.0)\"}, {\"source\": 12, \"target\": 28, \"color\": \"rgba(128, 0, 0, 1.0)\"}, {\"source\": 13, \"target\": 14, \"color\": \"rgba(256, 104, 0, 1.0)\"}, {\"source\": 13, \"target\": 15, \"color\": \"rgba(128, 0, 0, 1.0)\"}, {\"source\": 14, \"target\": 15, \"color\": \"rgba(128, 0, 0, 1.0)\"}, {\"source\": 14, \"target\": 16, \"color\": \"rgba(41, 256, 206, 1.0)\"}, {\"source\": 14, \"target\": 25, \"color\": \"rgba(0, 0, 128, 1.0)\"}, {\"source\": 15, \"target\": 16, \"color\": \"rgba(128, 0, 0, 1.0)\"}, {\"source\": 15, \"target\": 17, \"color\": \"rgba(206, 256, 41, 1.0)\"}, {\"source\": 16, \"target\": 17, \"color\": \"rgba(41, 256, 206, 1.0)\"}, {\"source\": 16, \"target\": 18, \"color\": \"rgba(206, 256, 41, 1.0)\"}, {\"source\": 16, \"target\": 27, \"color\": \"rgba(128, 0, 0, 1.0)\"}, {\"source\": 17, \"target\": 18, \"color\": \"rgba(206, 256, 41, 1.0)\"}, {\"source\": 17, \"target\": 19, \"color\": \"rgba(128, 0, 0, 1.0)\"}, {\"source\": 18, \"target\": 19, \"color\": \"rgba(128, 0, 0, 1.0)\"}, {\"source\": 18, \"target\": 21, \"color\": \"rgba(128, 0, 0, 1.0)\"}, {\"source\": 19, \"target\": 20, \"color\": \"rgba(0, 0, 128, 1.0)\"}, {\"source\": 19, \"target\": 28, \"color\": \"rgba(0, 76, 256, 1.0)\"}, {\"source\": 20, \"target\": 21, \"color\": \"rgba(128, 0, 0, 1.0)\"}, {\"source\": 20, \"target\": 22, \"color\": \"rgba(0, 76, 256, 1.0)\"}, {\"source\": 22, \"target\": 23, \"color\": \"rgba(0, 76, 256, 1.0)\"}, {\"source\": 22, \"target\": 24, \"color\": \"rgba(128, 0, 0, 1.0)\"}, {\"source\": 23, \"target\": 24, \"color\": \"rgba(41, 256, 206, 1.0)\"}, {\"source\": 23, \"target\": 25, \"color\": \"rgba(128, 0, 0, 1.0)\"}, {\"source\": 24, \"target\": 25, \"color\": \"rgba(128, 0, 0, 1.0)\"}, {\"source\": 25, \"target\": 27, \"color\": \"rgba(128, 0, 0, 1.0)\"}, {\"source\": 26, \"target\": 27, \"color\": \"rgba(0, 76, 256, 1.0)\"}, {\"source\": 26, \"target\": 28, \"color\": \"rgba(41, 256, 206, 1.0)\"}, {\"source\": 26, \"target\": 29, \"color\": \"rgba(0, 0, 128, 1.0)\"}, {\"source\": 27, \"target\": 29, \"color\": \"rgba(206, 256, 41, 1.0)\"}]);}</script><iframe name=\"style_file0\" src=\"style_file0.html\" width=\"100%;\" height=\"805px\"></iframe></body></html>"
      ],
      "text/plain": [
       "<IPython.core.display.HTML object>"
      ]
     },
     "execution_count": 7,
     "metadata": {},
     "output_type": "execute_result"
    }
   ],
   "source": [
    "# map the betweenness centrality to the node color, using matplotlib spring_r colormap\n",
    "node_to_color = visJS_module.return_node_to_color(G,field_to_map='betweenness_centrality',cmap=mpl.cm.spring_r,alpha = 1,\n",
    "                                                 color_max_frac = .9,color_min_frac = .1, vmin = 0, vmax = 0.08)\n",
    "\n",
    "# set node initial positions using networkx's spring_layout function\n",
    "pos = nx.spring_layout(G)\n",
    "\n",
    "# per node attributes\n",
    "nodes_dict = [{\"id\":n,\n",
    "               \"color\":node_to_color[n],\n",
    "               \"degree\":nx.degree(G,n),\n",
    "               \"node_shape\": node_to_shape[n],\n",
    "               \"x\":pos[n][0]*700,\n",
    "               \"y\":pos[n][1]*700} for n in nodes\n",
    "              ]\n",
    "\n",
    "# map to indices for source/target in edges\n",
    "node_map = dict(zip(nodes,range(len(nodes)))) \n",
    "\n",
    "# map colors to edges based on degree\n",
    "edge_to_color = visJS_module.return_edge_to_color(G,field_to_map='weight',cmap=mpl.cm.jet,alpha = 1.0, color_vals_transform = None,ceil_val=10,\n",
    "                        vmin=0,vmax=5)\n",
    "\n",
    "# per edge attributes\n",
    "edges_dict = [{\"source\":node_map[edges[i][0]], \"target\":node_map[edges[i][1]], \n",
    "              \"color\":edge_to_color[edges[i]]} for i in range(len(edges))]\n",
    "\n",
    "# set some network-wide styles\n",
    "visJS_module.visjs_network(nodes_dict,edges_dict,\n",
    "                          node_size_multiplier=7,\n",
    "                          node_size_transform = '',\n",
    "                          node_color_highlight_border='red',\n",
    "                          node_color_highlight_background='#D3918B',\n",
    "                          node_color_hover_border='blue',\n",
    "                          node_color_hover_background='#8BADD3',\n",
    "                          node_font_size=25,\n",
    "                          edge_arrow_to=True,\n",
    "                          physics_enabled=True,\n",
    "                          edge_color_highlight='#8A324E',\n",
    "                          edge_color_hover='#8BADD3',\n",
    "                          edge_width=3,\n",
    "                          max_velocity=15,\n",
    "                          min_velocity=1)\n",
    "\n"
   ]
  },
  {
   "cell_type": "code",
   "execution_count": null,
   "metadata": {
    "collapsed": true,
    "jupyter": {
     "outputs_hidden": true
    }
   },
   "outputs": [],
   "source": []
  }
 ],
 "metadata": {
  "kernelspec": {
   "display_name": "Python 3",
   "language": "python",
   "name": "python3"
  },
  "language_info": {
   "codemirror_mode": {
    "name": "ipython",
    "version": 3
   },
   "file_extension": ".py",
   "mimetype": "text/x-python",
   "name": "python",
   "nbconvert_exporter": "python",
   "pygments_lexer": "ipython3",
   "version": "3.7.3"
  }
 },
 "nbformat": 4,
 "nbformat_minor": 4
}
