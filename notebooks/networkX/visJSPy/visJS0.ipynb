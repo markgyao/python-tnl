{
 "cells": [
  {
   "cell_type": "code",
   "execution_count": 1,
   "metadata": {},
   "outputs": [],
   "source": [
    "import networkx as nx\n",
    "import visJS2jupyter.visJS_module as visJ\n",
    "import visJS2jupyter.visualizations"
   ]
  },
  {
   "cell_type": "code",
   "execution_count": 2,
   "metadata": {},
   "outputs": [],
   "source": [
    "G = nx.connected_watts_strogatz_graph(30, 5, 0.2)\n",
    "nodes = list(G.nodes()) # must cast to list to maintain compatibility between nx 1.11 and 2.0\n",
    "edges = list(G.edges()) # will return an \"EdgeView\" object in nx 2.0"
   ]
  },
  {
   "cell_type": "code",
   "execution_count": null,
   "metadata": {},
   "outputs": [],
   "source": [
    "# define the initial positions of the nodes using networkx's spring_layout function, and add to the nodes_dict.\n",
    "pos = nx.spring_layout(G)\n",
    "\n",
    "nodes_dict = [{\"id\":n,\n",
    "              \"x\":pos[n][0]*300,\n",
    "              \"y\":pos[n][1]*300} for n in nodes]\n",
    "\n",
    "node_map = dict(zip(nodes,range(len(nodes))))  # map to indices for source/target in edges\n",
    "\n",
    "edges_dict = [{\"source\":node_map[edges[i][0]], \"target\":node_map[edges[i][1]], \n",
    "              \"title\":'test'} for i in range(len(edges))]\n",
    "\n",
    "\n",
    "visJ.visjs_network(nodes_dict, edges_dict)"
   ]
  },
  {
   "cell_type": "code",
   "execution_count": 9,
   "metadata": {},
   "outputs": [
    {
     "name": "stdout",
     "output_type": "stream",
     "text": [
      "nodes\n",
      " [0, 1, 2, 3, 4, 5, 6, 7, 8, 9, 10, 11, 12, 13, 14, 15, 16, 17, 18, 19, 20, 21, 22, 23, 24, 25, 26, 27, 28, 29]\n",
      "ediges\n",
      " [(0, 1), (0, 2), (0, 28), (1, 2), (1, 3), (1, 29), (2, 3), (2, 17), (2, 21), (3, 4), (3, 12), (4, 6), (4, 19), (5, 6), (5, 7), (6, 7), (6, 8), (7, 8), (7, 9), (8, 9), (8, 10), (9, 10), (9, 11), (9, 23), (10, 11), (10, 21), (11, 12), (11, 13), (12, 13), (12, 14), (13, 14), (13, 15), (14, 15), (14, 22), (15, 16), (15, 17), (16, 17), (16, 18), (17, 19), (18, 19), (18, 24), (19, 20), (19, 21), (20, 21), (20, 22), (21, 22), (21, 23), (22, 23), (22, 24), (23, 25), (24, 25), (24, 26), (25, 26), (25, 27), (26, 27), (26, 28), (26, 29), (27, 28), (27, 29), (28, 29)]\n",
      "node_map\n",
      " {0: 0, 1: 1, 2: 2, 3: 3, 4: 4, 5: 5, 6: 6, 7: 7, 8: 8, 9: 9, 10: 10, 11: 11, 12: 12, 13: 13, 14: 14, 15: 15, 16: 16, 17: 17, 18: 18, 19: 19, 20: 20, 21: 21, 22: 22, 23: 23, 24: 24, 25: 25, 26: 26, 27: 27, 28: 28, 29: 29}\n",
      "edges_dict\n",
      " [{'source': 0, 'target': 1, 'title': 'test'}, {'source': 0, 'target': 2, 'title': 'test'}, {'source': 0, 'target': 28, 'title': 'test'}, {'source': 1, 'target': 2, 'title': 'test'}, {'source': 1, 'target': 3, 'title': 'test'}, {'source': 1, 'target': 29, 'title': 'test'}, {'source': 2, 'target': 3, 'title': 'test'}, {'source': 2, 'target': 17, 'title': 'test'}, {'source': 2, 'target': 21, 'title': 'test'}, {'source': 3, 'target': 4, 'title': 'test'}, {'source': 3, 'target': 12, 'title': 'test'}, {'source': 4, 'target': 6, 'title': 'test'}, {'source': 4, 'target': 19, 'title': 'test'}, {'source': 5, 'target': 6, 'title': 'test'}, {'source': 5, 'target': 7, 'title': 'test'}, {'source': 6, 'target': 7, 'title': 'test'}, {'source': 6, 'target': 8, 'title': 'test'}, {'source': 7, 'target': 8, 'title': 'test'}, {'source': 7, 'target': 9, 'title': 'test'}, {'source': 8, 'target': 9, 'title': 'test'}, {'source': 8, 'target': 10, 'title': 'test'}, {'source': 9, 'target': 10, 'title': 'test'}, {'source': 9, 'target': 11, 'title': 'test'}, {'source': 9, 'target': 23, 'title': 'test'}, {'source': 10, 'target': 11, 'title': 'test'}, {'source': 10, 'target': 21, 'title': 'test'}, {'source': 11, 'target': 12, 'title': 'test'}, {'source': 11, 'target': 13, 'title': 'test'}, {'source': 12, 'target': 13, 'title': 'test'}, {'source': 12, 'target': 14, 'title': 'test'}, {'source': 13, 'target': 14, 'title': 'test'}, {'source': 13, 'target': 15, 'title': 'test'}, {'source': 14, 'target': 15, 'title': 'test'}, {'source': 14, 'target': 22, 'title': 'test'}, {'source': 15, 'target': 16, 'title': 'test'}, {'source': 15, 'target': 17, 'title': 'test'}, {'source': 16, 'target': 17, 'title': 'test'}, {'source': 16, 'target': 18, 'title': 'test'}, {'source': 17, 'target': 19, 'title': 'test'}, {'source': 18, 'target': 19, 'title': 'test'}, {'source': 18, 'target': 24, 'title': 'test'}, {'source': 19, 'target': 20, 'title': 'test'}, {'source': 19, 'target': 21, 'title': 'test'}, {'source': 20, 'target': 21, 'title': 'test'}, {'source': 20, 'target': 22, 'title': 'test'}, {'source': 21, 'target': 22, 'title': 'test'}, {'source': 21, 'target': 23, 'title': 'test'}, {'source': 22, 'target': 23, 'title': 'test'}, {'source': 22, 'target': 24, 'title': 'test'}, {'source': 23, 'target': 25, 'title': 'test'}, {'source': 24, 'target': 25, 'title': 'test'}, {'source': 24, 'target': 26, 'title': 'test'}, {'source': 25, 'target': 26, 'title': 'test'}, {'source': 25, 'target': 27, 'title': 'test'}, {'source': 26, 'target': 27, 'title': 'test'}, {'source': 26, 'target': 28, 'title': 'test'}, {'source': 26, 'target': 29, 'title': 'test'}, {'source': 27, 'target': 28, 'title': 'test'}, {'source': 27, 'target': 29, 'title': 'test'}, {'source': 28, 'target': 29, 'title': 'test'}]\n"
     ]
    }
   ],
   "source": [
    "print('nodes\\n',nodes)\n",
    "print('ediges\\n',edges)\n",
    "print('node_map\\n',node_map)\n",
    "print('edges_dict\\n',edges_dict)"
   ]
  },
  {
   "cell_type": "code",
   "execution_count": 5,
   "metadata": {},
   "outputs": [
    {
     "data": {
      "text/plain": [
       "[(0, 1),\n",
       " (0, 2),\n",
       " (0, 28),\n",
       " (1, 2),\n",
       " (1, 3),\n",
       " (1, 29),\n",
       " (2, 3),\n",
       " (2, 17),\n",
       " (2, 21),\n",
       " (3, 4),\n",
       " (3, 12),\n",
       " (4, 6),\n",
       " (4, 19),\n",
       " (5, 6),\n",
       " (5, 7),\n",
       " (6, 7),\n",
       " (6, 8),\n",
       " (7, 8),\n",
       " (7, 9),\n",
       " (8, 9),\n",
       " (8, 10),\n",
       " (9, 10),\n",
       " (9, 11),\n",
       " (9, 23),\n",
       " (10, 11),\n",
       " (10, 21),\n",
       " (11, 12),\n",
       " (11, 13),\n",
       " (12, 13),\n",
       " (12, 14),\n",
       " (13, 14),\n",
       " (13, 15),\n",
       " (14, 15),\n",
       " (14, 22),\n",
       " (15, 16),\n",
       " (15, 17),\n",
       " (16, 17),\n",
       " (16, 18),\n",
       " (17, 19),\n",
       " (18, 19),\n",
       " (18, 24),\n",
       " (19, 20),\n",
       " (19, 21),\n",
       " (20, 21),\n",
       " (20, 22),\n",
       " (21, 22),\n",
       " (21, 23),\n",
       " (22, 23),\n",
       " (22, 24),\n",
       " (23, 25),\n",
       " (24, 25),\n",
       " (24, 26),\n",
       " (25, 26),\n",
       " (25, 27),\n",
       " (26, 27),\n",
       " (26, 28),\n",
       " (26, 29),\n",
       " (27, 28),\n",
       " (27, 29),\n",
       " (28, 29)]"
      ]
     },
     "execution_count": 5,
     "metadata": {},
     "output_type": "execute_result"
    }
   ],
   "source": [
    "edges"
   ]
  },
  {
   "cell_type": "code",
   "execution_count": null,
   "metadata": {},
   "outputs": [],
   "source": []
  }
 ],
 "metadata": {
  "kernelspec": {
   "display_name": "Python 3",
   "language": "python",
   "name": "python3"
  },
  "language_info": {
   "codemirror_mode": {
    "name": "ipython",
    "version": 3
   },
   "file_extension": ".py",
   "mimetype": "text/x-python",
   "name": "python",
   "nbconvert_exporter": "python",
   "pygments_lexer": "ipython3",
   "version": "3.7.3"
  }
 },
 "nbformat": 4,
 "nbformat_minor": 4
}
