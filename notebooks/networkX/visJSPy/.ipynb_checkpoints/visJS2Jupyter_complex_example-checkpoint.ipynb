{
 "cells": [
  {
   "cell_type": "markdown",
   "metadata": {},
   "source": [
    "# More complex network styling for visJS2jupyter\n",
    "\n",
    "------------\n",
    "\n",
    "Authors: Brin Rosenthal (sbrosenthal@ucsd.edu), Mikayla Webster (m1webste@ucsd.edu), Julia Len (jlen@ucsd.edu)\n",
    "\n",
    "-----------\n",
    "\n"
   ]
  },
  {
   "cell_type": "markdown",
   "metadata": {},
   "source": [
    "## Import packages"
   ]
  },
  {
   "cell_type": "code",
   "execution_count": 1,
   "metadata": {},
   "outputs": [
    {
     "data": {
      "text/plain": [
       "<module 'visJS2jupyter.visJS_module' from 'C:\\Users\\m1webste\\Anaconda2\\lib\\site-packages\\visJS2jupyter\\visJS_module.pyc'>"
      ]
     },
     "execution_count": 1,
     "metadata": {},
     "output_type": "execute_result"
    }
   ],
   "source": [
    "import numpy as np\n",
    "from random import randint\n",
    "import math\n",
    "import matplotlib as mpl\n",
    "import networkx as nx\n",
    "\n",
    "from visJS2jupyter import visJS_module\n",
    "reload(visJS_module)"
   ]
  },
  {
   "cell_type": "code",
   "execution_count": 2,
   "metadata": {
    "collapsed": true
   },
   "outputs": [],
   "source": [
    "# create a simple graph\n",
    "G = nx.connected_watts_strogatz_graph(30,5,.2)\n",
    "nodes = list(G.nodes()) # type cast to list in order to make compatible with networkx 1.11 and 2.0\n",
    "edges = list(G.edges()) # for nx 2.0, returns an \"EdgeView\" object rather than an iterable"
   ]
  },
  {
   "cell_type": "markdown",
   "metadata": {},
   "source": [
    "# Map node attributes to visual properties, and style the nodes and edges\n",
    "\n",
    "- To map node attributes to properties, simply add the property to the graph as a node-attribute, and use the return_node_to_color function"
   ]
  },
  {
   "cell_type": "code",
   "execution_count": 3,
   "metadata": {
    "collapsed": true
   },
   "outputs": [],
   "source": [
    "# add a node attributes to color-code by\n",
    "cc = nx.clustering(G)\n",
    "degree = dict(G.degree()) # nx 2.0 returns a \"DegreeView\" object. Cast to dict to maintain compatibility with nx 1.11\n",
    "bc = nx.betweenness_centrality(G)\n",
    "\n",
    "nx.set_node_attributes(G, name = 'clustering_coefficient', values = cc) # parameter order for name and values is switched \n",
    "nx.set_node_attributes(G, name = 'degree', values = degree)             # between networkx 1.11 and 2.0, therefore we must\n",
    "nx.set_node_attributes(G, name = 'betweenness_centrality', values = bc) # explicitly pass our arguments \n",
    "                                                                        # (not implicitly through position) "
   ]
  },
  {
   "cell_type": "code",
   "execution_count": 4,
   "metadata": {},
   "outputs": [],
   "source": [
    "# add edge attribute weight\n",
    "weights=[randint(0,9) for p in range(len(edges))]\n",
    "edge_to_weight = dict(zip(edges, weights))\n",
    "nx.set_edge_attributes(G, name = 'weight', values = edge_to_weight)"
   ]
  },
  {
   "cell_type": "code",
   "execution_count": 5,
   "metadata": {
    "collapsed": true
   },
   "outputs": [],
   "source": [
    "# setting shape of each node using a dictionary\n",
    "stars = ['star']*20 # some will be stars\n",
    "circles = ['dot']*10 # some will be circles\n",
    "shapes = stars + circles\n",
    "node_to_shape = dict(zip(nodes, shapes))"
   ]
  },
  {
   "cell_type": "markdown",
   "metadata": {},
   "source": [
    "<a id='interactive_network'></a>\n",
    "### Interactive network\n",
    "\n",
    "TIP: If you get errors running the following cell, try updating visJS2jupyter (pip install visJS2jupyter --upgrade). This cell is dependent on an update made on March 9th, 2018"
   ]
  },
  {
   "cell_type": "code",
   "execution_count": 6,
   "metadata": {},
   "outputs": [
    {
     "data": {
      "text/html": [
       "<!doctype html><html><head>  <title>Network | Basic usage</title></head><body><script type=\"text/javascript\">function setUpFrame() {     var frame = window.frames[\"style_file0\"];    frame.runVis([{\"node_shape\": \"star\", \"degree\": 4, \"title\": 0, \"color\": \"rgba(256, 0, 256, 1)\", \"y\": 164.02612637349532, \"x\": 186.45128337380663, \"border_width\": 0, \"id\": 0}, {\"node_shape\": \"star\", \"degree\": 3, \"title\": 1, \"color\": \"rgba(256, 0, 256, 1)\", \"y\": 74.77319965227254, \"x\": 216.26547853434454, \"border_width\": 0, \"id\": 1}, {\"node_shape\": \"star\", \"degree\": 3, \"title\": 2, \"color\": \"rgba(256, 139, 116, 1)\", \"y\": 0.0, \"x\": 108.92769145621408, \"border_width\": 0, \"id\": 2}, {\"node_shape\": \"star\", \"degree\": 4, \"title\": 3, \"color\": \"rgba(256, 116, 139, 1)\", \"y\": 88.7470337564494, \"x\": 58.66379451975399, \"border_width\": 0, \"id\": 3}, {\"node_shape\": \"star\", \"degree\": 4, \"title\": 4, \"color\": \"rgba(256, 178, 77, 1)\", \"y\": 142.9485852788873, \"x\": 0.0, \"border_width\": 0, \"id\": 4}, {\"node_shape\": \"star\", \"degree\": 5, \"title\": 5, \"color\": \"rgba(256, 146, 109, 1)\", \"y\": 139.77274817288614, \"x\": 75.01880356169875, \"border_width\": 0, \"id\": 5}, {\"node_shape\": \"star\", \"degree\": 4, \"title\": 6, \"color\": \"rgba(256, 187, 68, 1)\", \"y\": 167.813037696421, \"x\": 141.35214320025818, \"border_width\": 0, \"id\": 6}, {\"node_shape\": \"star\", \"degree\": 4, \"title\": 7, \"color\": \"rgba(256, 0, 256, 1)\", \"y\": 162.19477042432032, \"x\": 278.86416186826716, \"border_width\": 0, \"id\": 7}, {\"node_shape\": \"star\", \"degree\": 4, \"title\": 8, \"color\": \"rgba(256, 200, 55, 1)\", \"y\": 120.48992088891593, \"x\": 347.7077844899442, \"border_width\": 0, \"id\": 8}, {\"node_shape\": \"star\", \"degree\": 3, \"title\": 9, \"color\": \"rgba(256, 220, 35, 1)\", \"y\": 83.28013749724235, \"x\": 392.00676787043545, \"border_width\": 0, \"id\": 9}, {\"node_shape\": \"star\", \"degree\": 4, \"title\": 10, \"color\": \"rgba(256, 66, 189, 1)\", \"y\": 77.07718361890537, \"x\": 311.3656992558276, \"border_width\": 0, \"id\": 10}, {\"node_shape\": \"star\", \"degree\": 4, \"title\": 11, \"color\": \"rgba(256, 81, 174, 1)\", \"y\": 105.18299360864278, \"x\": 179.7262315781242, \"border_width\": 0, \"id\": 11}, {\"node_shape\": \"star\", \"degree\": 2, \"title\": 12, \"color\": \"rgba(256, 230, 25, 1)\", \"y\": 472.4462009373482, \"x\": 558.4980060964446, \"border_width\": 0, \"id\": 12}, {\"node_shape\": \"star\", \"degree\": 3, \"title\": 13, \"color\": \"rgba(256, 202, 53, 1)\", \"y\": 542.5005079830978, \"x\": 506.59294300397755, \"border_width\": 0, \"id\": 13}, {\"node_shape\": \"star\", \"degree\": 4, \"title\": 14, \"color\": \"rgba(256, 0, 256, 1)\", \"y\": 487.91610189117563, \"x\": 438.3152545570325, \"border_width\": 0, \"id\": 14}, {\"node_shape\": \"star\", \"degree\": 3, \"title\": 15, \"color\": \"rgba(256, 133, 122, 1)\", \"y\": 583.922188072616, \"x\": 434.6854692921215, \"border_width\": 0, \"id\": 15}, {\"node_shape\": \"star\", \"degree\": 5, \"title\": 16, \"color\": \"rgba(256, 0, 256, 1)\", \"y\": 396.8244200443286, \"x\": 380.53584230331427, \"border_width\": 0, \"id\": 16}, {\"node_shape\": \"star\", \"degree\": 4, \"title\": 17, \"color\": \"rgba(256, 0, 256, 1)\", \"y\": 279.4277429259844, \"x\": 339.01603958862165, \"border_width\": 0, \"id\": 17}, {\"node_shape\": \"star\", \"degree\": 5, \"title\": 18, \"color\": \"rgba(256, 0, 256, 1)\", \"y\": 300.8697619452653, \"x\": 280.63517210482655, \"border_width\": 0, \"id\": 18}, {\"node_shape\": \"star\", \"degree\": 5, \"title\": 19, \"color\": \"rgba(256, 0, 256, 1)\", \"y\": 649.2066961833102, \"x\": 335.3793446001914, \"border_width\": 0, \"id\": 19}, {\"node_shape\": \"dot\", \"degree\": 4, \"title\": 20, \"color\": \"rgba(256, 134, 121, 1)\", \"y\": 616.4947485393639, \"x\": 263.20842852835614, \"border_width\": 0, \"id\": 20}, {\"node_shape\": \"dot\", \"degree\": 4, \"title\": 21, \"color\": \"rgba(256, 125, 130, 1)\", \"y\": 688.7605051247367, \"x\": 229.83441281675948, \"border_width\": 0, \"id\": 21}, {\"node_shape\": \"dot\", \"degree\": 4, \"title\": 22, \"color\": \"rgba(256, 50, 205, 1)\", \"y\": 582.2759719119506, \"x\": 152.00971217444555, \"border_width\": 0, \"id\": 22}, {\"node_shape\": \"dot\", \"degree\": 4, \"title\": 23, \"color\": \"rgba(256, 207, 48, 1)\", \"y\": 700.0, \"x\": 137.53528652096398, \"border_width\": 0, \"id\": 23}, {\"node_shape\": \"dot\", \"degree\": 5, \"title\": 24, \"color\": \"rgba(256, 175, 80, 1)\", \"y\": 637.2952105753815, \"x\": 119.85935137435617, \"border_width\": 0, \"id\": 24}, {\"node_shape\": \"dot\", \"degree\": 4, \"title\": 25, \"color\": \"rgba(256, 178, 77, 1)\", \"y\": 550.294160846574, \"x\": 207.01217878738916, \"border_width\": 0, \"id\": 25}, {\"node_shape\": \"dot\", \"degree\": 4, \"title\": 26, \"color\": \"rgba(256, 132, 123, 1)\", \"y\": 531.4178579814268, \"x\": 147.71482574245513, \"border_width\": 0, \"id\": 26}, {\"node_shape\": \"dot\", \"degree\": 5, \"title\": 27, \"color\": \"rgba(256, 0, 256, 1)\", \"y\": 495.0306292729699, \"x\": 286.5128310413736, \"border_width\": 0, \"id\": 27}, {\"node_shape\": \"dot\", \"degree\": 4, \"title\": 28, \"color\": \"rgba(256, 0, 256, 1)\", \"y\": 437.03264266468636, \"x\": 176.26528232115479, \"border_width\": 0, \"id\": 28}, {\"node_shape\": \"dot\", \"degree\": 5, \"title\": 29, \"color\": \"rgba(256, 0, 256, 1)\", \"y\": 213.90632168652846, \"x\": 232.63425766309848, \"border_width\": 0, \"id\": 29}], [{\"color\": \"rgba(128, 0, 0, 1.0)\", \"source\": 0, \"target\": 3}, {\"color\": \"rgba(128, 0, 0, 1.0)\", \"source\": 0, \"target\": 11}, {\"color\": \"rgba(256, 104, 0, 1.0)\", \"source\": 0, \"target\": 17}, {\"color\": \"rgba(128, 0, 0, 1.0)\", \"source\": 0, \"target\": 29}, {\"color\": \"rgba(128, 0, 0, 1.0)\", \"source\": 1, \"target\": 2}, {\"color\": \"rgba(206, 256, 41, 1.0)\", \"source\": 1, \"target\": 18}, {\"color\": \"rgba(206, 256, 41, 1.0)\", \"source\": 1, \"target\": 29}, {\"color\": \"rgba(206, 256, 41, 1.0)\", \"source\": 2, \"target\": 3}, {\"color\": \"rgba(0, 0, 128, 1.0)\", \"source\": 2, \"target\": 4}, {\"color\": \"rgba(128, 0, 0, 1.0)\", \"source\": 3, \"target\": 4}, {\"color\": \"rgba(256, 104, 0, 1.0)\", \"source\": 3, \"target\": 5}, {\"color\": \"rgba(128, 0, 0, 1.0)\", \"source\": 4, \"target\": 5}, {\"color\": \"rgba(0, 76, 256, 1.0)\", \"source\": 4, \"target\": 6}, {\"color\": \"rgba(128, 0, 0, 1.0)\", \"source\": 5, \"target\": 11}, {\"color\": \"rgba(128, 0, 0, 1.0)\", \"source\": 5, \"target\": 6}, {\"color\": \"rgba(0, 0, 128, 1.0)\", \"source\": 5, \"target\": 7}, {\"color\": \"rgba(41, 256, 206, 1.0)\", \"source\": 6, \"target\": 8}, {\"color\": \"rgba(256, 104, 0, 1.0)\", \"source\": 6, \"target\": 7}, {\"color\": \"rgba(128, 0, 0, 1.0)\", \"source\": 7, \"target\": 8}, {\"color\": \"rgba(128, 0, 0, 1.0)\", \"source\": 7, \"target\": 29}, {\"color\": \"rgba(128, 0, 0, 1.0)\", \"source\": 8, \"target\": 9}, {\"color\": \"rgba(0, 76, 256, 1.0)\", \"source\": 8, \"target\": 10}, {\"color\": \"rgba(128, 0, 0, 1.0)\", \"source\": 9, \"target\": 10}, {\"color\": \"rgba(0, 76, 256, 1.0)\", \"source\": 9, \"target\": 11}, {\"color\": \"rgba(206, 256, 41, 1.0)\", \"source\": 10, \"target\": 11}, {\"color\": \"rgba(128, 0, 0, 1.0)\", \"source\": 10, \"target\": 29}, {\"color\": \"rgba(206, 256, 41, 1.0)\", \"source\": 12, \"target\": 13}, {\"color\": \"rgba(128, 0, 0, 1.0)\", \"source\": 12, \"target\": 14}, {\"color\": \"rgba(128, 0, 0, 1.0)\", \"source\": 13, \"target\": 14}, {\"color\": \"rgba(128, 0, 0, 1.0)\", \"source\": 13, \"target\": 15}, {\"color\": \"rgba(206, 256, 41, 1.0)\", \"source\": 14, \"target\": 16}, {\"color\": \"rgba(128, 0, 0, 1.0)\", \"source\": 14, \"target\": 27}, {\"color\": \"rgba(41, 256, 206, 1.0)\", \"source\": 15, \"target\": 16}, {\"color\": \"rgba(128, 0, 0, 1.0)\", \"source\": 15, \"target\": 19}, {\"color\": \"rgba(128, 0, 0, 1.0)\", \"source\": 16, \"target\": 17}, {\"color\": \"rgba(206, 256, 41, 1.0)\", \"source\": 16, \"target\": 18}, {\"color\": \"rgba(206, 256, 41, 1.0)\", \"source\": 16, \"target\": 27}, {\"color\": \"rgba(256, 104, 0, 1.0)\", \"source\": 17, \"target\": 18}, {\"color\": \"rgba(0, 0, 128, 1.0)\", \"source\": 17, \"target\": 19}, {\"color\": \"rgba(0, 0, 128, 1.0)\", \"source\": 18, \"target\": 19}, {\"color\": \"rgba(0, 76, 256, 1.0)\", \"source\": 18, \"target\": 20}, {\"color\": \"rgba(128, 0, 0, 1.0)\", \"source\": 19, \"target\": 20}, {\"color\": \"rgba(128, 0, 0, 1.0)\", \"source\": 19, \"target\": 21}, {\"color\": \"rgba(41, 256, 206, 1.0)\", \"source\": 20, \"target\": 21}, {\"color\": \"rgba(128, 0, 0, 1.0)\", \"source\": 20, \"target\": 22}, {\"color\": \"rgba(256, 104, 0, 1.0)\", \"source\": 21, \"target\": 24}, {\"color\": \"rgba(128, 0, 0, 1.0)\", \"source\": 21, \"target\": 23}, {\"color\": \"rgba(206, 256, 41, 1.0)\", \"source\": 22, \"target\": 24}, {\"color\": \"rgba(128, 0, 0, 1.0)\", \"source\": 22, \"target\": 28}, {\"color\": \"rgba(206, 256, 41, 1.0)\", \"source\": 22, \"target\": 23}, {\"color\": \"rgba(256, 104, 0, 1.0)\", \"source\": 23, \"target\": 24}, {\"color\": \"rgba(0, 0, 128, 1.0)\", \"source\": 23, \"target\": 25}, {\"color\": \"rgba(206, 256, 41, 1.0)\", \"source\": 24, \"target\": 25}, {\"color\": \"rgba(128, 0, 0, 1.0)\", \"source\": 24, \"target\": 26}, {\"color\": \"rgba(128, 0, 0, 1.0)\", \"source\": 25, \"target\": 26}, {\"color\": \"rgba(128, 0, 0, 1.0)\", \"source\": 25, \"target\": 27}, {\"color\": \"rgba(128, 0, 0, 1.0)\", \"source\": 26, \"target\": 27}, {\"color\": \"rgba(256, 104, 0, 1.0)\", \"source\": 26, \"target\": 28}, {\"color\": \"rgba(256, 104, 0, 1.0)\", \"source\": 27, \"target\": 28}, {\"color\": \"rgba(256, 104, 0, 1.0)\", \"source\": 28, \"target\": 29}]);}</script><iframe name=\"style_file0\" src=\"style_file0.html\" width=\"100%;\" height=\"805px\"></iframe></body></html>"
      ],
      "text/plain": [
       "<IPython.core.display.HTML object>"
      ]
     },
     "execution_count": 6,
     "metadata": {},
     "output_type": "execute_result"
    }
   ],
   "source": [
    "# map the betweenness centrality to the node color, using matplotlib spring_r colormap\n",
    "node_to_color = visJS_module.return_node_to_color(G,field_to_map='betweenness_centrality',cmap=mpl.cm.spring_r,alpha = 1,\n",
    "                                                 color_max_frac = .9,color_min_frac = .1, vmin = 0, vmax = 0.08)\n",
    "\n",
    "# set node initial positions using networkx's spring_layout function\n",
    "pos = nx.spring_layout(G)\n",
    "\n",
    "# per node attributes\n",
    "nodes_dict = [{\"id\":n,\n",
    "               \"color\":node_to_color[n],\n",
    "               \"degree\":nx.degree(G,n),\n",
    "               \"node_shape\": node_to_shape[n],\n",
    "               \"x\":pos[n][0]*700,\n",
    "               \"y\":pos[n][1]*700} for n in nodes\n",
    "              ]\n",
    "\n",
    "# map to indices for source/target in edges\n",
    "node_map = dict(zip(nodes,range(len(nodes)))) \n",
    "\n",
    "# map colors to edges based on degree\n",
    "edge_to_color = visJS_module.return_edge_to_color(G,field_to_map='weight',cmap=mpl.cm.jet,alpha = 1.0, color_vals_transform = None,ceil_val=10,\n",
    "                        vmin=0,vmax=5)\n",
    "\n",
    "# per edge attributes\n",
    "edges_dict = [{\"source\":node_map[edges[i][0]], \"target\":node_map[edges[i][1]], \n",
    "              \"color\":edge_to_color[edges[i]]} for i in range(len(edges))]\n",
    "\n",
    "# set some network-wide styles\n",
    "visJS_module.visjs_network(nodes_dict,edges_dict,\n",
    "                          node_size_multiplier=7,\n",
    "                          node_size_transform = '',\n",
    "                          node_color_highlight_border='red',\n",
    "                          node_color_highlight_background='#D3918B',\n",
    "                          node_color_hover_border='blue',\n",
    "                          node_color_hover_background='#8BADD3',\n",
    "                          node_font_size=25,\n",
    "                          edge_arrow_to=True,\n",
    "                          physics_enabled=True,\n",
    "                          edge_color_highlight='#8A324E',\n",
    "                          edge_color_hover='#8BADD3',\n",
    "                          edge_width=3,\n",
    "                          max_velocity=15,\n",
    "                          min_velocity=1)\n",
    "\n"
   ]
  },
  {
   "cell_type": "code",
   "execution_count": null,
   "metadata": {
    "collapsed": true
   },
   "outputs": [],
   "source": []
  }
 ],
 "metadata": {
  "kernelspec": {
   "display_name": "Python 2",
   "language": "python",
   "name": "python2"
  },
  "language_info": {
   "codemirror_mode": {
    "name": "ipython",
    "version": 2
   },
   "file_extension": ".py",
   "mimetype": "text/x-python",
   "name": "python",
   "nbconvert_exporter": "python",
   "pygments_lexer": "ipython2",
   "version": "2.7.14"
  }
 },
 "nbformat": 4,
 "nbformat_minor": 1
}
