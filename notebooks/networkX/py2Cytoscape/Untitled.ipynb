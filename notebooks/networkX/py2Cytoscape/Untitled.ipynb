{
 "cells": [
  {
   "cell_type": "code",
   "execution_count": 1,
   "metadata": {},
   "outputs": [
    {
     "name": "stdout",
     "output_type": "stream",
     "text": [
      "6042\n"
     ]
    }
   ],
   "source": [
    "from py2cytoscape.data.cyrest_client import CyRestClient\n",
    "\n",
    "cy = CyRestClient()\n",
    "network = cy.network.create(name='My Network', collection='My network collection')\n",
    "print(network.get_id())\n"
   ]
  },
  {
   "cell_type": "code",
   "execution_count": 6,
   "metadata": {},
   "outputs": [
    {
     "ename": "NameError",
     "evalue": "name 'yeast_nework' is not defined",
     "output_type": "error",
     "traceback": [
      "\u001b[0;31m---------------------------------------------------------------------------\u001b[0m",
      "\u001b[0;31mNameError\u001b[0m                                 Traceback (most recent call last)",
      "\u001b[0;32m<ipython-input-6-466b7e9e4f68>\u001b[0m in \u001b[0;36m<module>\u001b[0;34m\u001b[0m\n\u001b[1;32m     14\u001b[0m     }]\n\u001b[1;32m     15\u001b[0m \u001b[0;31m#renderer.render(elements=elements, style='default2', layout_algorithm='preset', background='#FFFFFF', height=400, width=800)\u001b[0m\u001b[0;34m\u001b[0m\u001b[0;34m\u001b[0m\u001b[0;34m\u001b[0m\u001b[0m\n\u001b[0;32m---> 16\u001b[0;31m \u001b[0mrender\u001b[0m\u001b[0;34m.\u001b[0m\u001b[0mrender\u001b[0m\u001b[0;34m(\u001b[0m\u001b[0myeast_nework\u001b[0m\u001b[0;34m,\u001b[0m\u001b[0;34m'default2'\u001b[0m\u001b[0;34m)\u001b[0m\u001b[0;34m\u001b[0m\u001b[0;34m\u001b[0m\u001b[0m\n\u001b[0m",
      "\u001b[0;31mNameError\u001b[0m: name 'yeast_nework' is not defined"
     ]
    }
   ],
   "source": [
    "\n",
    "import json\n",
    "import py2cytoscape.cytoscapejs as render\n",
    "\n",
    "elements = [\n",
    "    { 'data': { 'id': 'a' } },\n",
    "    { 'data': { 'id': 'b' } },\n",
    "    { 'data': { 'id': 'c' } },\n",
    "    {\n",
    "      'data': {\n",
    "        'id': 'ab',\n",
    "        'source': 'a',\n",
    "        'target': 'b'\n",
    "      }\n",
    "    }]\n",
    "#renderer.render(elements=elements, style='default2', layout_algorithm='preset', background='#FFFFFF', height=400, width=800)\n",
    "render.render(yeast_nework,'default2')"
   ]
  }
 ],
 "metadata": {
  "kernelspec": {
   "display_name": "Python 3",
   "language": "python",
   "name": "python3"
  },
  "language_info": {
   "codemirror_mode": {
    "name": "ipython",
    "version": 3
   },
   "file_extension": ".py",
   "mimetype": "text/x-python",
   "name": "python",
   "nbconvert_exporter": "python",
   "pygments_lexer": "ipython3",
   "version": "3.7.3"
  }
 },
 "nbformat": 4,
 "nbformat_minor": 4
}
