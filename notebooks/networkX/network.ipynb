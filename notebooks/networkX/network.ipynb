{
 "cells": [
  {
   "cell_type": "code",
   "execution_count": 3,
   "metadata": {},
   "outputs": [
    {
     "ename": "SyntaxError",
     "evalue": "invalid syntax (<ipython-input-3-9a71ecbc0a09>, line 19)",
     "output_type": "error",
     "traceback": [
      "\u001b[1;36m  File \u001b[1;32m\"<ipython-input-3-9a71ecbc0a09>\"\u001b[1;36m, line \u001b[1;32m19\u001b[0m\n\u001b[1;33m    print 'Bind failed. Error Code : ' + str(msg[0]) + ' Message ' + msg[1]\u001b[0m\n\u001b[1;37m                                     ^\u001b[0m\n\u001b[1;31mSyntaxError\u001b[0m\u001b[1;31m:\u001b[0m invalid syntax\n"
     ]
    }
   ],
   "source": [
    "# A simple socket server \n",
    "'''\n",
    "    Simple socket server using threads\n",
    "'''\n",
    " \n",
    "import socket\n",
    "import sys\n",
    " \n",
    "HOST = ''   # Symbolic name, meaning all available interfaces\n",
    "PORT = 8888 # Arbitrary non-privileged port\n",
    " \n",
    "s = socket.socket(socket.AF_INET, socket.SOCK_STREAM)\n",
    "print('Socket created')\n",
    " \n",
    "#Bind socket to local host and port\n",
    "try:\n",
    "    s.bind((HOST, PORT))\n",
    "except socket.error as msg:\n",
    "    print \n",
    "    sys.exit()\n",
    "     \n",
    "print('Socket bind complete')\n",
    " \n",
    "#Start listening on socket\n",
    "s.listen(10)\n",
    "print('Socket now listening')\n",
    " \n",
    "#now keep talking with the client\n",
    "while 1:\n",
    "    #wait to accept a connection - blocking call\n",
    "    conn, addr = s.accept()\n",
    "    print('Connected with ' + addr[0] + ':' + str(addr[1]))\n",
    "     \n",
    "s.close()"
   ]
  }
 ],
 "metadata": {
  "kernelspec": {
   "display_name": "Python 3",
   "language": "python",
   "name": "python3"
  },
  "language_info": {
   "codemirror_mode": {
    "name": "ipython",
    "version": 3
   },
   "file_extension": ".py",
   "mimetype": "text/x-python",
   "name": "python",
   "nbconvert_exporter": "python",
   "pygments_lexer": "ipython3",
   "version": "3.7.3"
  }
 },
 "nbformat": 4,
 "nbformat_minor": 4
}
