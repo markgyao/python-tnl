{
 "cells": [
  {
   "cell_type": "code",
   "execution_count": 2,
   "metadata": {},
   "outputs": [],
   "source": [
    "\"\"\" Comprehension\n",
    "    create or transfrom a collection\n",
    "    [expr for x in collec if ...], [expr for x in collec1 for y in collec2 if ...]     \n",
    "\"\"\"\n",
    "X=[[1,3,5],[2,4,6]]\n",
    "# for list\n",
    "X=[[1,3,5],[2,4,6]]\n",
    "r=[n*2 for n in X[0]]\n",
    "r=[n*2 for n in range(1,10+1) if n<5] #create a list\n",
    "r=[num%2==0 for num in X[0]+X[1]]\n",
    "\n",
    "#for turple\n",
    "r=((n,n*2) for n in range(1,10+1) if n<5) #create turple of turples\n",
    "r=[(x,y) for x in X[0] for y in X[1] ] # create a list of turple wit hcartesian X[0] and X[1]\n",
    "\n",
    "#for set\n",
    "r={n*2 for n in range(1,10+1) if n<5}\n",
    "\n",
    "#for dict\n",
    "r={n:n*2 for n in range(1,10+1) if n<5}\n"
   ]
  },
  {
   "cell_type": "code",
   "execution_count": 3,
   "metadata": {},
   "outputs": [
    {
     "data": {
      "text/plain": [
       "[2, 50]"
      ]
     },
     "execution_count": 3,
     "metadata": {},
     "output_type": "execute_result"
    }
   ],
   "source": [
    "\"\"\" Lambda\n",
    "    lambda args:expression\n",
    "\"\"\"\n",
    "f=lambda x:x*2\n",
    "r=[f(x) for x in [1,2]]\n",
    "r=[lambda x:x*2 for x in [1,25]] # wrong result\n",
    "r=[(lambda x:x*2)(x) for x in [1,25]]\n",
    "\n",
    "r\n"
   ]
  },
  {
   "cell_type": "code",
   "execution_count": null,
   "metadata": {},
   "outputs": [],
   "source": [
    "\"\"\" Iterator and Generator \n",
    "\"\"\""
   ]
  },
  {
   "cell_type": "code",
   "execution_count": null,
   "metadata": {},
   "outputs": [],
   "source": [
    "\"\"\" map/filter/reduce\n",
    "\"\"\""
   ]
  },
  {
   "cell_type": "code",
   "execution_count": null,
   "metadata": {},
   "outputs": [],
   "source": [
    "\"\"\" Miscilinious \n",
    "any(), all(), sorted(), collections.Counter()\n",
    "\"\"\"\n",
    "\n",
    "\"\"\" --------------> any() and all\n",
    "any=> evaluate a collection of expression, return true if any of element is true else return false\n",
    "all=> return true only if all elements are true\n",
    "\"\"\"\n",
    "X=[[1,3,5],[2,4,6]]\n",
    "any([num%2==0 for num in X[0]+X[1]])\n",
    "all([num%2==0 for num in X[0]+X[1]])\n",
    "\n"
   ]
  }
 ],
 "metadata": {
  "kernelspec": {
   "display_name": "Python 3",
   "language": "python",
   "name": "python3"
  },
  "language_info": {
   "codemirror_mode": {
    "name": "ipython",
    "version": 3
   },
   "file_extension": ".py",
   "mimetype": "text/x-python",
   "name": "python",
   "nbconvert_exporter": "python",
   "pygments_lexer": "ipython3",
   "version": "3.7.1"
  }
 },
 "nbformat": 4,
 "nbformat_minor": 2
}
