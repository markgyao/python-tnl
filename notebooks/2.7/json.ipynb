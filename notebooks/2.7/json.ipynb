{
 "cells": [
  {
   "cell_type": "code",
   "execution_count": 14,
   "metadata": {},
   "outputs": [],
   "source": [
    "import json\n",
    "import requests\n",
    "'''\n",
    "Created on Jul 24, 2018\n",
    "\n",
    "@author: markyao\n",
    "'''\n",
    "frm_id='387096'\n",
    "tb_id='349543'\n",
    "month=03\n",
    "tstart='2018//%s/01'%(month)\n",
    "tend='2018//%s/01'%(month)\n",
    "\n",
    "\n",
    "'''\n",
    "tsdbGetQuery='http://maestros-fr-ticker1-c-02.fr_vpc2.fr.utopusinsights.io/api/query?start=30d-ago&end=2018/07/23-14:51:46&m=none:generation.%s.na.10m.calc{assetId=%s}'\n",
    "tsdbGetQuery=tsdbGetQuery%(frm_id,tb_id)\n",
    "r=requests.get(tsdbGetQuery)\n",
    "gens= r.json()[0]['dps']\n",
    "'''\n",
    "\n",
    "\n",
    "  \n"
   ]
  },
  {
   "cell_type": "code",
   "execution_count": 15,
   "metadata": {},
   "outputs": [
    {
     "name": "stdout",
     "output_type": "stream",
     "text": [
      "1530912000 -1.10000002384\n",
      "1531605600 115.466667175\n",
      "1530357000 66.5333328247\n",
      "1529946000 55.4333343506\n",
      "1530286800 123.400001526\n",
      "1530318000 182.816665649\n",
      "1531422600 118.516670227\n",
      "1530619200 -1.03333330154\n",
      "1531848600 80.6833343506\n",
      "1530709800 7.46666669846\n",
      "1530470400 85.7999954224\n"
     ]
    }
   ],
   "source": [
    "i=0;\n",
    "for t,v in gens.items():\n",
    "    print t,v\n",
    "    i=i+1\n",
    "    if(i>10):\n",
    "        break\n"
   ]
  }
 ],
 "metadata": {
  "kernelspec": {
   "display_name": "Python 2",
   "language": "python",
   "name": "python2"
  },
  "language_info": {
   "codemirror_mode": {
    "name": "ipython",
    "version": 2
   },
   "file_extension": ".py",
   "mimetype": "text/x-python",
   "name": "python",
   "nbconvert_exporter": "python",
   "pygments_lexer": "ipython2",
   "version": "2.7.14"
  }
 },
 "nbformat": 4,
 "nbformat_minor": 2
}
