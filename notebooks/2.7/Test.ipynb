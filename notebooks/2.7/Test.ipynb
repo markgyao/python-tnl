{
 "cells": [
  {
   "cell_type": "code",
   "execution_count": 1,
   "metadata": {},
   "outputs": [
    {
     "ename": "AttributeError",
     "evalue": "type object '_io.StringIO' has no attribute 'StringIO'",
     "output_type": "error",
     "traceback": [
      "\u001b[1;31m---------------------------------------------------------------------------\u001b[0m",
      "\u001b[1;31mAttributeError\u001b[0m                            Traceback (most recent call last)",
      "\u001b[1;32m<ipython-input-1-96a833ad5fa7>\u001b[0m in \u001b[0;36m<module>\u001b[1;34m\u001b[0m\n\u001b[0;32m     36\u001b[0m     \u001b[1;32mreturn\u001b[0m \u001b[0mfio\u001b[0m\u001b[1;33m\u001b[0m\u001b[1;33m\u001b[0m\u001b[0m\n\u001b[0;32m     37\u001b[0m \u001b[1;33m\u001b[0m\u001b[0m\n\u001b[1;32m---> 38\u001b[1;33m \u001b[0mfio\u001b[0m\u001b[1;33m=\u001b[0m\u001b[0mget_gzDecoded_IO\u001b[0m\u001b[1;33m(\u001b[0m\u001b[1;34m's3://net.energyhub.assets/public/dev-exercises/audit-data/2016/01/01.jsonl.gz'\u001b[0m\u001b[1;33m)\u001b[0m\u001b[1;33m\u001b[0m\u001b[1;33m\u001b[0m\u001b[0m\n\u001b[0m\u001b[0;32m     39\u001b[0m \u001b[1;31m#fio=get_gzDecoded_IO('file:///temp/t1/01.jsonl.gz')\u001b[0m\u001b[1;33m\u001b[0m\u001b[1;33m\u001b[0m\u001b[1;33m\u001b[0m\u001b[0m\n\u001b[0;32m     40\u001b[0m \u001b[1;31m#fio=get_gzDecoded_IO('file:///repos/Mgy/Pyhton/TnL/EnergyHubAudit/data/2016/01/05.jsonl.gz')\u001b[0m\u001b[1;33m\u001b[0m\u001b[1;33m\u001b[0m\u001b[1;33m\u001b[0m\u001b[0m\n",
      "\u001b[1;32m<ipython-input-1-96a833ad5fa7>\u001b[0m in \u001b[0;36mget_gzDecoded_IO\u001b[1;34m(url)\u001b[0m\n\u001b[0;32m     31\u001b[0m     \u001b[0mfio\u001b[0m\u001b[1;33m=\u001b[0m\u001b[1;32mNone\u001b[0m\u001b[1;33m\u001b[0m\u001b[1;33m\u001b[0m\u001b[0m\n\u001b[0;32m     32\u001b[0m     \u001b[1;32mif\u001b[0m\u001b[1;33m(\u001b[0m\u001b[0mparsedUrl\u001b[0m\u001b[1;33m[\u001b[0m\u001b[1;36m0\u001b[0m\u001b[1;33m]\u001b[0m\u001b[1;33m==\u001b[0m\u001b[1;34m's3'\u001b[0m\u001b[1;33m)\u001b[0m\u001b[1;33m:\u001b[0m\u001b[1;33m\u001b[0m\u001b[1;33m\u001b[0m\u001b[0m\n\u001b[1;32m---> 33\u001b[1;33m         \u001b[0mfio\u001b[0m\u001b[1;33m=\u001b[0m\u001b[0mget_io_from_s3url\u001b[0m\u001b[1;33m(\u001b[0m\u001b[0murl\u001b[0m\u001b[1;33m)\u001b[0m\u001b[1;33m\u001b[0m\u001b[1;33m\u001b[0m\u001b[0m\n\u001b[0m\u001b[0;32m     34\u001b[0m     \u001b[1;32melif\u001b[0m\u001b[1;33m(\u001b[0m\u001b[0mparsedUrl\u001b[0m\u001b[1;33m[\u001b[0m\u001b[1;36m0\u001b[0m\u001b[1;33m]\u001b[0m\u001b[1;33m==\u001b[0m\u001b[1;34m'file'\u001b[0m\u001b[1;33m)\u001b[0m\u001b[1;33m:\u001b[0m\u001b[1;33m\u001b[0m\u001b[1;33m\u001b[0m\u001b[0m\n\u001b[0;32m     35\u001b[0m         \u001b[0mfio\u001b[0m\u001b[1;33m=\u001b[0m\u001b[0mgzip\u001b[0m\u001b[1;33m.\u001b[0m\u001b[0mopen\u001b[0m\u001b[1;33m(\u001b[0m\u001b[0mparsedUrl\u001b[0m\u001b[1;33m[\u001b[0m\u001b[1;36m2\u001b[0m\u001b[1;33m]\u001b[0m\u001b[1;33m,\u001b[0m \u001b[1;34m'r'\u001b[0m\u001b[1;33m)\u001b[0m\u001b[1;33m\u001b[0m\u001b[1;33m\u001b[0m\u001b[0m\n",
      "\u001b[1;32m<ipython-input-1-96a833ad5fa7>\u001b[0m in \u001b[0;36mget_io_from_s3url\u001b[1;34m(url)\u001b[0m\n\u001b[0;32m     13\u001b[0m \u001b[1;33m\u001b[0m\u001b[0m\n\u001b[0;32m     14\u001b[0m     \u001b[1;31m#assume it is gz_coded, do gz_decode and write out as file io object\u001b[0m\u001b[1;33m\u001b[0m\u001b[1;33m\u001b[0m\u001b[1;33m\u001b[0m\u001b[0m\n\u001b[1;32m---> 15\u001b[1;33m     \u001b[0moutFile\u001b[0m \u001b[1;33m=\u001b[0m \u001b[0mStringIO\u001b[0m\u001b[1;33m.\u001b[0m\u001b[0mStringIO\u001b[0m\u001b[1;33m(\u001b[0m\u001b[1;33m)\u001b[0m\u001b[1;33m\u001b[0m\u001b[1;33m\u001b[0m\u001b[0m\n\u001b[0m\u001b[0;32m     16\u001b[0m     \u001b[0mcompressedFile\u001b[0m \u001b[1;33m=\u001b[0m \u001b[0mStringIO\u001b[0m\u001b[1;33m.\u001b[0m\u001b[0mStringIO\u001b[0m\u001b[1;33m(\u001b[0m\u001b[0mcontent\u001b[0m\u001b[1;33m)\u001b[0m\u001b[1;33m\u001b[0m\u001b[1;33m\u001b[0m\u001b[0m\n\u001b[0;32m     17\u001b[0m     \u001b[0mdecompressedFile\u001b[0m \u001b[1;33m=\u001b[0m \u001b[0mgzip\u001b[0m\u001b[1;33m.\u001b[0m\u001b[0mGzipFile\u001b[0m\u001b[1;33m(\u001b[0m\u001b[0mfileobj\u001b[0m\u001b[1;33m=\u001b[0m\u001b[0mcompressedFile\u001b[0m\u001b[1;33m)\u001b[0m\u001b[1;33m\u001b[0m\u001b[1;33m\u001b[0m\u001b[0m\n",
      "\u001b[1;31mAttributeError\u001b[0m: type object '_io.StringIO' has no attribute 'StringIO'"
     ]
    }
   ],
   "source": [
    "import boto3\n",
    "from urllib.parse import urlparse\n",
    "from io import StringIO\n",
    "import gzip\n",
    "from awscli.customizations.s3.utils import split_s3_bucket_key\n",
    "\n",
    "def get_io_from_s3url(url):\n",
    "    #get 'Body' from s3 url\n",
    "    client = boto3.client('s3')\n",
    "    bucket_name, key_name = split_s3_bucket_key(url)\n",
    "    response = client.get_object(Bucket=bucket_name, Key=key_name)\n",
    "    content=response['Body'].read()\n",
    "    \n",
    "    #assume it is gz_coded, do gz_decode and write out as file io object\n",
    "    outFile = StringIO.StringIO()\n",
    "    compressedFile = StringIO.StringIO(content)\n",
    "    decompressedFile = gzip.GzipFile(fileobj=compressedFile)\n",
    "    outFile.write(decompressedFile.read())\n",
    "    outFile.flush()\n",
    "    outFile.seek(0)\n",
    "   \n",
    "    return outFile\n",
    "\n",
    "def get_gzDecoded_IO(url):\n",
    "    parsedUrl = urlparse(url)\n",
    "    #'file://c:/temp/t1/01.jsonl.gz'\n",
    "        #ParseResult(scheme='file', netloc='c:', path='/temp/t1/01.jsonl.gz', params='', query='', fragment='')\n",
    "    ##'file://c:/temp/t1/test1.txt' \n",
    "        #ParseResult(scheme='s3', netloc='net.energyhub.assets', path='/public/dev-exercises/audit-data/2016/01/01.jsonl.gz', params='', query='', fragment='')\n",
    "    #if resource is from s3\n",
    "    fio=None\n",
    "    if(parsedUrl[0]=='s3'):\n",
    "        fio=get_io_from_s3url(url)\n",
    "    elif(parsedUrl[0]=='file'):\n",
    "        fio=gzip.open(parsedUrl[2], 'r')\n",
    "    return fio\n",
    "    \n",
    "fio=get_gzDecoded_IO('s3://net.energyhub.assets/public/dev-exercises/audit-data/2016/01/01.jsonl.gz')  \n",
    "#fio=get_gzDecoded_IO('file:///temp/t1/01.jsonl.gz')  \n",
    "#fio=get_gzDecoded_IO('file:///repos/Mgy/Pyhton/TnL/EnergyHubAudit/data/2016/01/05.jsonl.gz')  \n",
    "\n",
    "for line in fio:\n",
    "    print(line.replace('\\n',''))\n",
    "fio.close()\n"
   ]
  }
 ],
 "metadata": {
  "kernelspec": {
   "display_name": "Python 3",
   "language": "python",
   "name": "python3"
  },
  "language_info": {
   "codemirror_mode": {
    "name": "ipython",
    "version": 3
   },
   "file_extension": ".py",
   "mimetype": "text/x-python",
   "name": "python",
   "nbconvert_exporter": "python",
   "pygments_lexer": "ipython3",
   "version": "3.7.1"
  }
 },
 "nbformat": 4,
 "nbformat_minor": 2
}
