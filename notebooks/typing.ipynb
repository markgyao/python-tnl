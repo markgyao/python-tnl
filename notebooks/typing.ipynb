{
 "cells": [
  {
   "cell_type": "code",
   "execution_count": null,
   "metadata": {},
   "outputs": [],
   "source": [
    "#create a chain of functions \n",
    "import typing as tp\n",
    "Scaler_func=tp.Callable[[float],float]\n",
    "func_chain=tp.List[Scaler_func]\n",
    "\n",
    "def f1(x:float)->float:\n",
    "    return x+x\n",
    "def f2(x:float)->float:\n",
    "    return 2*x\n",
    "def f3(x:float)->float:\n",
    "    return x*x\n",
    "def chainCall(chain:list,x:float)->float:\n",
    "    y=x\n",
    "    for i in range(len(chain)):\n",
    "        y=chain[i](y)\n",
    "    return y  \n",
    "def chainCall2(chain:list,x:float)->float:\n",
    "    y=x\n",
    "    for f in chain:\n",
    "        y=f(y)\n",
    "    return y  \n",
    "\n"
   ]
  },
  {
   "cell_type": "code",
   "execution_count": null,
   "metadata": {},
   "outputs": [],
   "source": [
    "\n",
    "fchain=[f1,f2,f3]\n",
    "x=3\n",
    "print(f3(f2(f1(x))))\n",
    "print(f1(f2(f3(x))))\n",
    "print(chainCall2(fchain,x))"
   ]
  }
 ],
 "metadata": {
  "kernelspec": {
   "display_name": "Python 3",
   "language": "python",
   "name": "python3"
  },
  "language_info": {
   "codemirror_mode": {
    "name": "ipython",
    "version": 3
   },
   "file_extension": ".py",
   "mimetype": "text/x-python",
   "name": "python",
   "nbconvert_exporter": "python",
   "pygments_lexer": "ipython3",
   "version": "3.7.3"
  }
 },
 "nbformat": 4,
 "nbformat_minor": 4
}
