{
 "cells": [
  {
   "cell_type": "code",
   "execution_count": 3,
   "metadata": {},
   "outputs": [],
   "source": [
    "import json\n",
    "import jsonpath_ng\n",
    "\n"
   ]
  },
  {
   "cell_type": "code",
   "execution_count": 5,
   "metadata": {},
   "outputs": [
    {
     "name": "stdout",
     "output_type": "stream",
     "text": [
      "{'employees': [{'id': 1, 'name': 'Pankaj', 'salary': '10000'}, {'name': 'David', 'salary': '5000', 'id': 2}]}\n",
      "Employee id: 1\n",
      "Employee id: 2\n"
     ]
    }
   ],
   "source": [
    "import json\n",
    "from jsonpath_ng import jsonpath, parse\n",
    "\n",
    "with open(\"data/employees.json\", 'r') as json_file:\n",
    "    json_data = json.load(json_file)\n",
    "\n",
    "print(json_data)\n",
    "jsonpath_expression = parse('employees[*].id')\n",
    "for match in jsonpath_expression.find(json_data):\n",
    "    print(f'Employee id: {match.value}')"
   ]
  },
  {
   "cell_type": "code",
   "execution_count": null,
   "metadata": {},
   "outputs": [],
   "source": []
  }
 ],
 "metadata": {
  "kernelspec": {
   "display_name": "Python 3",
   "language": "python",
   "name": "python3"
  },
  "language_info": {
   "codemirror_mode": {
    "name": "ipython",
    "version": 3
   },
   "file_extension": ".py",
   "mimetype": "text/x-python",
   "name": "python",
   "nbconvert_exporter": "python",
   "pygments_lexer": "ipython3",
   "version": "3.7.3"
  }
 },
 "nbformat": 4,
 "nbformat_minor": 4
}
