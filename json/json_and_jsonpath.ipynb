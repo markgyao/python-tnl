{
 "cells": [
  {
   "cell_type": "code",
   "execution_count": null,
   "metadata": {},
   "outputs": [],
   "source": []
  },
  {
   "cell_type": "code",
   "execution_count": null,
   "metadata": {},
   "outputs": [],
   "source": [
    "import json\n",
    "import jsonpath_rw_ext as jpext\n",
    "import jsonpath_ng as jpng\n",
    "from jsonpath_ng.ext import parse\n",
    "\n",
    "def test_jsonpath_rw_ext():\n",
    "    datafile=\"./store.json\"\n",
    "    with open(datafile, 'r') as json_file:\n",
    "        jsObj = json.load(json_file)\n",
    "    #print(jsdata['store']['book'][0]['title'])\n",
    "    reslt1=jpext.match(\"$..author\",jsObj)\n",
    "    print(reslt1)\n",
    "\n",
    "def test_jsonpath_ng():\n",
    "    datafile=\"./store.json\"\n",
    "    with open(datafile, 'r') as json_file:\n",
    "        jsObj = json.load(json_file)\n",
    "    #print(jsdata['store']['book'][0]['title'])\n",
    "    \n",
    "    matches=parse(\"$..author\").find(jsObj)\n",
    "    for match in matches:\n",
    "        print(match.value)\n",
    "\n",
    "#test_jsonpath_rw_ext()\n",
    "#test_jsonpath_ng()"
   ]
  },
  {
   "cell_type": "code",
   "execution_count": null,
   "metadata": {},
   "outputs": [],
   "source": []
  },
  {
   "cell_type": "code",
   "execution_count": null,
   "metadata": {},
   "outputs": [],
   "source": []
  },
  {
   "cell_type": "code",
   "execution_count": null,
   "metadata": {},
   "outputs": [],
   "source": []
  }
 ],
 "metadata": {
  "kernelspec": {
   "display_name": "Python 3",
   "language": "python",
   "name": "python3"
  },
  "language_info": {
   "codemirror_mode": {
    "name": "ipython",
    "version": 3
   },
   "file_extension": ".py",
   "mimetype": "text/x-python",
   "name": "python",
   "nbconvert_exporter": "python",
   "pygments_lexer": "ipython3",
   "version": "3.7.3"
  }
 },
 "nbformat": 4,
 "nbformat_minor": 4
}
