{
 "cells": [
  {
   "cell_type": "code",
   "execution_count": null,
   "metadata": {},
   "outputs": [],
   "source": [
    "from cassandra.cluster import Cluster\n",
    "from cassandra.auth import PlainTextAuthProvider\n",
    "from cassandra.policies import DCAWarweRoundRobinPolicy\n",
    "from ssl import PROTOCOL_TLSvl,SSLContext,CERT_REQUIRED\n",
    "\n",
    "ssl-context=SSLContext(PROTOCOL_TLSvl)\n",
    "cluseter = Cluster(\n",
    "    contact_points=['xxx.xxx.xxx.xxx','xxx.xxx.xxx.xxx'],\n",
    "    protocol_version=3,\n",
    "    connect_timeout=60,\n",
    "    autho_provider=PlainTextAuthProvider(\n",
    "        username=\"\", password=\"\"),\n",
    "    ssl_context=ssl_context,\n",
    "    port=9042\n",
    "    )\n",
    "\n",
    "session=cluster.connect('udf_sense_dev_2')\n",
    "\n",
    "tableName='service_blueprint'\n",
    "query=\"select * from {}\".format(tableName)\n",
    "rows=session.execute(query)\n",
    "for row in rows:\n",
    "    print(row.udf_id,row.udf_evn)\n",
    "\n",
    "\n",
    "import pandas as pd\n",
    "df=pd.DataFrmae(list(session.execute(query)))\n",
    "df.shape\n",
    "\n",
    "\n",
    "\n"
   ]
  }
 ],
 "metadata": {
  "kernelspec": {
   "display_name": "Python 3",
   "language": "python",
   "name": "python3"
  },
  "language_info": {
   "codemirror_mode": {
    "name": "ipython",
    "version": 3
   },
   "file_extension": ".py",
   "mimetype": "text/x-python",
   "name": "python",
   "nbconvert_exporter": "python",
   "pygments_lexer": "ipython3",
   "version": "3.7.1"
  }
 },
 "nbformat": 4,
 "nbformat_minor": 2
}
